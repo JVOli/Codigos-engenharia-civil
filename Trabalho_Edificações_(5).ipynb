{
  "cells": [
    {
      "cell_type": "code",
      "execution_count": null,
      "metadata": {
        "id": "asG6HiQ11IVt"
      },
      "outputs": [],
      "source": [
        "#Imports\n",
        "from math import *                                                             \n",
        "import numpy as np\n",
        "import matplotlib.pyplot as plt\n",
        "from sklearn.linear_model import LogisticRegression\n",
        "from sklearn.metrics import classification_report, confusion_matrix\n",
        "import scipy"
      ]
    },
    {
      "cell_type": "code",
      "execution_count": null,
      "metadata": {
        "colab": {
          "base_uri": "https://localhost:8080/"
        },
        "id": "ZZmIDlDV1Y5z",
        "outputId": "a93b759e-491e-4e3b-b46d-372627daa8cc"
      },
      "outputs": [
        {
          "name": "stdout",
          "output_type": "stream",
          "text": [
            "Dados 1\n",
            "Relaçãoa/c0.41\n",
            "Resistencia28C160.2\n",
            "Resistencia28C258.9\n",
            "Dados 2\n",
            "Relaçãoa/c0.54\n",
            "Resistencia28C143.2\n",
            "Resistencia28C241.5\n",
            "Dados 3\n",
            "Relaçãoa/c0.68\n",
            "Resistencia28C129.5\n",
            "Resistencia28C231.3\n",
            "Dados 4\n",
            "Relaçãoa/c0.83\n",
            "Resistencia28C119.3\n",
            "Resistencia28C221.3\n",
            "Dados cimento\n",
            "Massa especifica3.03\n",
            "Custo600\n"
          ]
        }
      ],
      "source": [
        "# RECEBER OS DADOS:\n",
        "print(\"Dados 1\")\n",
        "Trabalho1 = {\"m\":3.00, \"Relaçãoa/c\":input(\"Relaçãoa/c\"),\"Resistencia28C1\":input(\"Resistencia28C1\"), \"Resistencia28C2\":input(\"Resistencia28C2\")}\n",
        "print(\"Dados 2\")\n",
        "Trabalho2 = {\"m\":4.50, \"Relaçãoa/c\":input(\"Relaçãoa/c\"),\"Resistencia28C1\":input(\"Resistencia28C1\"), \"Resistencia28C2\":input(\"Resistencia28C2\")}\n",
        "print(\"Dados 3\")\n",
        "Trabalho3 = {\"m\":6.00, \"Relaçãoa/c\":input(\"Relaçãoa/c\"),\"Resistencia28C1\":input(\"Resistencia28C1\"), \"Resistencia28C2\":input(\"Resistencia28C2\")}\n",
        "print(\"Dados 4\")\n",
        "Trabalho4 = {\"m\":7.50, \"Relaçãoa/c\":input(\"Relaçãoa/c\"),\"Resistencia28C1\":input(\"Resistencia28C1\"), \"Resistencia28C2\":input(\"Resistencia28C2\")}\n",
        "print(\"Dados cimento\")\n",
        "DadosCimento = {\"MassaEspecifica\":float(input(\"Massa especifica\")), \"Custo\":float(input(\"Custo\"))}\n",
        "#Dados Fornecidos\n",
        "DdosExtras = { \"TeorArgS\": 0.55, \"DP\": 3, \"Consistencia\":\"Classe S100\", \"Areia\":{\"MU\":1500, \"ME\":2630, \"Custo\":70, \"Inchamento\": 0.29}, \"Brita\":{\"MU\":1450, \"ME\":2950, \"Custo\":62}}    "
      ]
    },
    {
      "cell_type": "code",
      "execution_count": null,
      "metadata": {
        "colab": {
          "base_uri": "https://localhost:8080/",
          "height": 610
        },
        "id": "qIH7tPDKVhzy",
        "outputId": "85367e45-1d0f-47ae-813c-d41d2d996831"
      },
      "outputs": [
        {
          "name": "stdout",
          "output_type": "stream",
          "text": [
            "[0.41 0.41 0.54 0.54 0.68 0.68 0.83 0.83]\n"
          ]
        },
        {
          "data": {
            "image/png": "[encoded data removed]",
            "text/plain": [
              "<Figure size 720x720 with 1 Axes>"
            ]
          },
          "metadata": {},
          "output_type": "display_data"
        }
      ],
      "source": [
        "#UNIR EM UM ARRAY \n",
        "Dadosac = np.array((float(Trabalho1[\"Relaçãoa/c\"]),float(Trabalho1[\"Relaçãoa/c\"]),float(Trabalho2[\"Relaçãoa/c\"]),float(Trabalho2[\"Relaçãoa/c\"]),float(Trabalho3[\"Relaçãoa/c\"]),float(Trabalho3[\"Relaçãoa/c\"]),float(Trabalho4[\"Relaçãoa/c\"]),float(Trabalho4[\"Relaçãoa/c\"])))\n",
        "DadosRes = np.array((float(Trabalho1[\"Resistencia28C1\"]),float(Trabalho1[\"Resistencia28C2\"]),float(Trabalho2[\"Resistencia28C1\"]),float(Trabalho2[\"Resistencia28C2\"]),float(Trabalho3[\"Resistencia28C1\"]),float(Trabalho3[\"Resistencia28C2\"]),float(Trabalho4[\"Resistencia28C1\"]),float(Trabalho4[\"Resistencia28C2\"])))\n",
        "Dadosm = np.array((float(Trabalho1[\"m\"]),float(Trabalho1[\"m\"]),float(Trabalho2[\"m\"]),float(Trabalho2[\"m\"]),float(Trabalho3[\"m\"]),float(Trabalho3[\"m\"]),float(Trabalho4[\"m\"]),float(Trabalho4[\"m\"])))\n",
        "#Plotar os dados fornecidos de resistencia a/c\n",
        "plt.figure(figsize=(10,10))\n",
        "plt.scatter(Dadosac,DadosRes)\n",
        "print(Dadosac)"
      ]
    },
    {
      "cell_type": "code",
      "execution_count": null,
      "metadata": {
        "id": "hK2GUeiIXwHG"
      },
      "outputs": [],
      "source": [
        ""
      ]
    },
    {
      "cell_type": "code",
      "execution_count": null,
      "metadata": {
        "id": "txF2lKxNV1WE"
      },
      "outputs": [],
      "source": [
        "AP = ['A', 'P']\n",
        "DdosExtras = { \"TeorArgS\": 0.55, \"DP\": 3, \"Consistencia\":\"Classe S100\", \"Areia\":{\"MU\":1500, \"ME\":2630, \"Custo\":70, \"Inchamento\": 0.29}, \"Brita\":{\"MU\":1450, \"ME\":2950, \"Custo\":62}}    "
      ]
    },
    {
      "cell_type": "code",
      "execution_count": null,
      "metadata": {
        "id": "rDFD0baYYeSr"
      },
      "outputs": [],
      "source": [
        "#CLASSES DE AGRESSIVIDADE\n",
        "ClasseI = {\"a/c\":[0.65, 0.6], \"Classe\":[20,25],\"CC\":260}\n",
        "ClasseII = {\"a/c\":[0.6,0.55], \"Classe\":[25,30],\"CC\":280}\n",
        "ClasseIII = {\"a/c\":[0.55,0.50], \"Classe\":[30,35],\"CC\":320}\n",
        "ClasseIV = {\"a/c\":[0.45,0.45], \"Classe\":[40,40],\"CC\":360}\n",
        "ClassesAgr = [ClasseI,ClasseII,ClasseIII,ClasseIV]\n",
        "#ADITIVO X REDUCAO DA QUANTIDADE DE AGUA\n",
        "Aditivo  = [0.002, 0.004, 0.006, 0.008, 0.01]\n",
        "RedAgua = [0.08, 0.09, 0.11, 0.13, 0.16] \n",
        "MEaditivo = 1.2\n",
        "Custoaditivo = 6"
      ]
    },
    {
      "cell_type": "code",
      "execution_count": null,
      "metadata": {
        "id": "GndXua5Shhym"
      },
      "outputs": [],
      "source": [
        "#FIT DA CURVA LOGARITIMICA\n",
        "Dadosacfit = np.copy(Dadosac)\n",
        "Dadosacfit = Dadosacfit.reshape((8,1))\n",
        "constantes = scipy.optimize.curve_fit(lambda t,a,b: a+b*np.log(t),  Dadosac,  DadosRes)"
      ]
    },
    {
      "cell_type": "code",
      "execution_count": null,
      "metadata": {
        "colab": {
          "base_uri": "https://localhost:8080/"
        },
        "id": "xDpd4YDGdSJW",
        "outputId": "ba4c2dea-35a2-4a8b-c5d1-bb1f0777cf2d"
      },
      "outputs": [
        {
          "name": "stdout",
          "output_type": "stream",
          "text": [
            "R2 =  0.9634397365831551\n"
          ]
        }
      ],
      "source": [
        "Soma = 0\n",
        "for i in range(0,8):\n",
        "  Soma = Soma + (DadosRes[i] - (constantes[0][0] + constantes[0][1]*np.log(Dadosac[i])))**2\n",
        "soma1 = 0\n",
        "MediaRes = np.sum(DadosRes)\n",
        "for i in range(0,8):\n",
        "  soma1 = Soma + (MediaRes/8 - DadosRes[i])**2\n",
        "print('R2 = ', (soma1 - Soma)/soma1)\n"
      ]
    },
    {
      "cell_type": "code",
      "execution_count": null,
      "metadata": {
        "colab": {
          "base_uri": "https://localhost:8080/"
        },
        "id": "JpId3qs6N8XO",
        "outputId": "9a953654-92c7-40ee-8bdb-c8747b0e7325"
      },
      "outputs": [
        {
          "name": "stdout",
          "output_type": "stream",
          "text": [
            "9.30177448594416 -55.48332341823097\n"
          ]
        }
      ],
      "source": [
        "print(constantes[0][0], constantes[0][1])"
      ]
    },
    {
      "cell_type": "code",
      "execution_count": null,
      "metadata": {
        "colab": {
          "base_uri": "https://localhost:8080/",
          "height": 658
        },
        "id": "hkKJQ8OxhkbB",
        "outputId": "9cfddec7-3420-477e-cb4a-1e217bd210a6"
      },
      "outputs": [
        {
          "name": "stderr",
          "output_type": "stream",
          "text": [
            "/usr/local/lib/python3.7/dist-packages/ipykernel_launcher.py:3: RuntimeWarning: divide by zero encountered in log\n",
            "  This is separate from the ipykernel package so we can avoid doing imports until\n"
          ]
        },
        {
          "data": {
            "text/plain": [
              "Text(0, 0.5, 'Fck28')"
            ]
          },
          "execution_count": 53,
          "metadata": {},
          "output_type": "execute_result"
        },
        {
          "data": {
            "image/png": "[encoded data removed]",
            "text/plain": [
              "<Figure size 720x720 with 1 Axes>"
            ]
          },
          "metadata": {},
          "output_type": "display_data"
        }
      ],
      "source": [
        "#PLOT DA CURVA\n",
        "xfit = np.arange(0,1,0.000001)\n",
        "yfit = constantes[0][0] + constantes[0][1]*np.log(xfit)\n",
        "plt.figure(figsize=(10,10))\n",
        "plt.plot(xfit,yfit)\n",
        "plt.scatter(Dadosac,DadosRes)\n",
        "plt.xlabel('Relação A/C')\n",
        "plt.ylabel('Fck28')"
      ]
    },
    {
      "cell_type": "code",
      "execution_count": null,
      "metadata": {
        "colab": {
          "base_uri": "https://localhost:8080/",
          "height": 626
        },
        "id": "RZ9wbf1zhmwE",
        "outputId": "2a273005-22d2-4be9-ec78-a97fcff6929c"
      },
      "outputs": [
        {
          "data": {
            "text/plain": [
              "Text(0, 0.5, 'Fck28')"
            ]
          },
          "execution_count": 54,
          "metadata": {},
          "output_type": "execute_result"
        },
        {
          "data": {
            "image/png": "[encoded data removed]",
            "text/plain": [
              "<Figure size 720x720 with 1 Axes>"
            ]
          },
          "metadata": {},
          "output_type": "display_data"
        }
      ],
      "source": [
        "\n",
        "#PLOT DA CURVA COM ZOOM\n",
        "xzoomfit = np.arange(0.35,0.9,0.0002)\n",
        "yzoomfit = constantes[0][0] + constantes[0][1]*np.log(xzoomfit)\n",
        "plt.figure(figsize=(10,10))\n",
        "plt.plot(xzoomfit,yzoomfit)\n",
        "plt.scatter(Dadosac,DadosRes)\n",
        "plt.xlabel('Relação A/C')\n",
        "plt.ylabel('Fck28')"
      ]
    },
    {
      "cell_type": "markdown",
      "metadata": {
        "id": "lO-2v-V7stSh"
      },
      "source": [
        ""
      ]
    },
    {
      "cell_type": "markdown",
      "metadata": {
        "id": "FPUQdBZ2sed4"
      },
      "source": [
        ""
      ]
    },
    {
      "cell_type": "code",
      "execution_count": null,
      "metadata": {
        "colab": {
          "base_uri": "https://localhost:8080/"
        },
        "id": "hnODwarDiU1V",
        "outputId": "990364bf-5d4d-4a09-831a-46de31f6e3de"
      },
      "outputs": [
        {
          "name": "stdout",
          "output_type": "stream",
          "text": [
            "Classe 1 A \n",
            " Resistencia obtida: 24.949961040593305 A/c ideal: 0.754248 Resistencia minima: 24.95\n",
            "Classe 1 P \n",
            " Resistencia obtida: 29.949961489383817 A/c ideal: 0.68925 Resistencia minima: 29.95\n",
            "Classe 2 A \n",
            " Resistencia obtida: 29.949961489383817 A/c ideal: 0.68925 Resistencia minima: 29.95\n",
            "Classe 2 P \n",
            " Resistencia obtida: 34.949984940842945 A/c ideal: 0.629853 Resistencia minima: 34.95\n",
            "Classe 3 A \n",
            " Resistencia obtida: 34.949984940842945 A/c ideal: 0.629853 Resistencia minima: 34.95\n",
            "Classe 3 P \n",
            " Resistencia obtida: 39.949971030788355 A/c ideal: 0.575575 Resistencia minima: 39.95\n",
            "Classe 4 A \n",
            " Resistencia obtida: 44.949898327497 A/c ideal: 0.525975 Resistencia minima: 44.95\n",
            "Classe 4 P \n",
            " Resistencia obtida: 44.949898327497 A/c ideal: 0.525975 Resistencia minima: 44.95\n"
          ]
        }
      ],
      "source": [
        "#TESTE A/C FCM\n",
        "Finalac = np.zeros((4,2))\n",
        "for i in range(0,4):\n",
        "    for j in range(0,2):\n",
        "        for idealac in range(0,1000000):\n",
        "            if(yfit[idealac]>=ClassesAgr[i][\"Classe\"][j] + 1.65  * DdosExtras[\"DP\"]):\n",
        "              Finalac[i,j] = idealac/100000\n",
        "            else:\n",
        "              print('Classe',i+1,AP[j],'\\n',\"Resistencia obtida:\",yfit[idealac],'A/c ideal:', idealac/1000000,'Resistencia minima:',ClassesAgr[i][\"Classe\"][j] + 1.65  * DdosExtras[\"DP\"])\n",
        "              break"
      ]
    },
    {
      "cell_type": "code",
      "execution_count": null,
      "metadata": {
        "colab": {
          "base_uri": "https://localhost:8080/"
        },
        "id": "PMIbrwSumTR2",
        "outputId": "d802362a-2e18-4b4f-95f0-db0fb5ee1f45"
      },
      "outputs": [
        {
          "name": "stdout",
          "output_type": "stream",
          "text": [
            "Teste a/c maximo : a/c para resistencia minima\n",
            " 0.754247 0.65 33.203042342550454\n",
            " 0.689249 0.6 37.644077779672195\n",
            " 0.689249 0.6 37.644077779672195\n",
            " 0.629852 0.55 42.47175815025344\n",
            " 0.629852 0.55 42.47175815025344\n",
            " 0.575574 0.5 47.75988368138654\n",
            " 0.5259739999999999 0.45 53.60563524714131\n",
            " 0.5259739999999999 0.45 53.60563524714131\n"
          ]
        }
      ],
      "source": [
        "print(\"Teste a/c maximo : a/c para resistencia minima\")\n",
        "for i in range(0,4):\n",
        "    for j in range(0,2):\n",
        "        if(Finalac[i,j]/10<=(ClassesAgr[i][\"a/c\"][j])):\n",
        "            print(\"Aprovado\")\n",
        "            print('Classe', i, j,'apovado', Finalac[i,j],(ClassesAgr[i][\"a/c\"][j]))\n",
        "        else:\n",
        "            print('',Finalac[i,j]/10,(ClassesAgr[i][\"a/c\"][j]), yfit[int(ClassesAgr[i][\"a/c\"][j]*1000000)])\n",
        "            Finalac[i,j] = ClassesAgr[i][\"a/c\"][j]*100"
      ]
    },
    {
      "cell_type": "code",
      "execution_count": null,
      "metadata": {
        "id": "keVrMb_irv95"
      },
      "outputs": [],
      "source": [
        ""
      ]
    },
    {
      "cell_type": "code",
      "execution_count": null,
      "metadata": {
        "colab": {
          "base_uri": "https://localhost:8080/",
          "height": 693
        },
        "id": "z4vQQIuWjG-Z",
        "outputId": "d6652da1-f09c-478c-adde-0ada4830680c"
      },
      "outputs": [
        {
          "name": "stdout",
          "output_type": "stream",
          "text": [
            "[[65. 60.]\n",
            " [60. 55.]\n",
            " [55. 50.]\n",
            " [45. 45.]]\n"
          ]
        },
        {
          "name": "stderr",
          "output_type": "stream",
          "text": [
            "No handles with labels found to put in legend.\n"
          ]
        },
        {
          "data": {
            "image/png": "[encoded data removed]",
            "text/plain": [
              "<Figure size 720x720 with 1 Axes>"
            ]
          },
          "metadata": {},
          "output_type": "display_data"
        }
      ],
      "source": [
        "print(Finalac)\n",
        "import matplotlib.pyplot as plt\n",
        "from scipy import stats\n",
        "todosm = np.arange(0,10,0.000001)\n",
        "\n",
        "plt.figure(figsize=(10,10))\n",
        "res = stats.linregress(Dadosac, Dadosm)\n",
        "x = np.arange(0,1,0.0000001)\n",
        "mac = res.intercept + res.slope*x\n",
        "macfinal = np.zeros((4,2))\n",
        "for i in range(0,4):\n",
        "    for j in range(0,2):\n",
        "        macfinal[i,j] = mac[int(100000*Finalac[i,j])]\n",
        "plt.plot(x, res.intercept + res.slope*x, 'r')\n",
        "plt.xlabel('Relação A/C')\n",
        "plt.ylabel('M')\n",
        "\n",
        "plt.legend()\n",
        "plt.scatter(Dadosac,Dadosm)\n",
        "plt.show()"
      ]
    },
    {
      "cell_type": "code",
      "execution_count": null,
      "metadata": {
        "colab": {
          "base_uri": "https://localhost:8080/"
        },
        "id": "wDXU_rQARl54",
        "outputId": "74d1ffed-b354-4ce3-95ac-2258b651d5fe"
      },
      "outputs": [
        {
          "name": "stdout",
          "output_type": "stream",
          "text": [
            "[[5.62461774 5.08944954]\n",
            " [5.08944954 4.55428135]\n",
            " [4.55428135 4.01911315]\n",
            " [3.48394495 3.48394495]] -1.3325688073394506 10.70336391437309\n"
          ]
        }
      ],
      "source": [
        "macfinalshape = macfinal.reshape((8,1))\n",
        "print(macfinal, res.intercept, res.slope)"
      ]
    },
    {
      "cell_type": "code",
      "execution_count": null,
      "metadata": {
        "colab": {
          "base_uri": "https://localhost:8080/"
        },
        "id": "8z8E6J9m8zaa",
        "outputId": "f9a4f920-bf42-4012-88b6-0b463aa66ba7"
      },
      "outputs": [
        {
          "data": {
            "text/plain": [
              "array([[5.62461774],\n",
              "       [5.08944954],\n",
              "       [5.08944954],\n",
              "       [4.55428135],\n",
              "       [4.55428135],\n",
              "       [4.01911315],\n",
              "       [3.48394495],\n",
              "       [3.48394495]])"
            ]
          },
          "execution_count": 100,
          "metadata": {},
          "output_type": "execute_result"
        }
      ],
      "source": [
        "macfinalshape"
      ]
    },
    {
      "cell_type": "code",
      "execution_count": null,
      "metadata": {
        "colab": {
          "base_uri": "https://localhost:8080/"
        },
        "id": "HPt6f3SQdXcc",
        "outputId": "49a15559-105c-41e8-b3c6-5e9b810717e8"
      },
      "outputs": [
        {
          "name": "stdout",
          "output_type": "stream",
          "text": [
            "5.624617737003058\n",
            "5.089449541284403\n",
            "5.089449541284403\n",
            "4.55428134556575\n",
            "4.55428134556575\n",
            "4.019113149847095\n",
            "3.4839449541284404\n",
            "3.4839449541284404\n",
            "R2 =  0.9078518862248957\n"
          ]
        }
      ],
      "source": [
        "Somam = 0\n",
        "for i in range(0,8):\n",
        "  Somam = Somam + (Dadosm[i] - (res.intercept + res.slope*(Finalac[i//2,i%2]/10)))**2\n",
        "  print(res.intercept + res.slope*(Finalac[i//2,i%2]/10))\n",
        "soma1m = 0\n",
        "\n",
        "Mediam = np.sum(Dadosm)\n",
        "for i in range(0,8):\n",
        "  soma1m = Somam + (Mediam/8 - Dadosm[i])**2\n",
        "print('R2 = ', 1 - (soma1m - Somam)/soma1m)\n"
      ]
    },
    {
      "cell_type": "code",
      "execution_count": null,
      "metadata": {
        "colab": {
          "base_uri": "https://localhost:8080/"
        },
        "id": "hm8U50XcSpT_",
        "outputId": "59cdb103-ef3d-4a5b-9a56-d740068f767b"
      },
      "outputs": [
        {
          "name": "stdout",
          "output_type": "stream",
          "text": [
            "0 0\n",
            "0 1\n",
            "1 0\n",
            "1 1\n",
            "2 0\n",
            "2 1\n",
            "3 0\n",
            "3 1\n"
          ]
        }
      ],
      "source": [
        "Areia = np.zeros((4,2))\n",
        "Pedra = np.zeros((4,2))\n",
        "for i in range (0, 4):\n",
        "  for j in range(0, 2):\n",
        "    Areia[i,j] = float(DdosExtras[\"TeorArgS\"])*(1+ macfinal[i,j])- 1\n",
        "    Pedra[i,j] = macfinal[i,j] - Areia[i,j]"
      ]
    },
    {
      "cell_type": "code",
      "execution_count": null,
      "metadata": {
        "colab": {
          "base_uri": "https://localhost:8080/"
        },
        "id": "xjc-zaZiTA6V",
        "outputId": "dc5dc9ad-aa54-471d-c11f-37d36a155a10"
      },
      "outputs": [
        {
          "name": "stdout",
          "output_type": "stream",
          "text": [
            "[[2.64353976 2.34919725]\n",
            " [2.34919725 2.05485474]\n",
            " [2.05485474 1.76051223]\n",
            " [1.46616972 1.46616972]]\n",
            "[[2.98107798 2.74025229]\n",
            " [2.74025229 2.49942661]\n",
            " [2.49942661 2.25860092]\n",
            " [2.01777523 2.01777523]]\n"
          ]
        }
      ],
      "source": [
        "print(Areia)\n",
        "print(Pedra)"
      ]
    },
    {
      "cell_type": "code",
      "execution_count": null,
      "metadata": {
        "colab": {
          "base_uri": "https://localhost:8080/"
        },
        "id": "XlSfOYSIXZkK",
        "outputId": "07a705da-cd05-476b-ff56-3fcf04f454a9"
      },
      "outputs": [
        {
          "name": "stdout",
          "output_type": "stream",
          "text": [
            "9.30177448594416 -55.48332341823097\n"
          ]
        }
      ],
      "source": [
        "print(constantes[0][0], constantes[0][1])"
      ]
    },
    {
      "cell_type": "code",
      "execution_count": null,
      "metadata": {
        "colab": {
          "base_uri": "https://localhost:8080/"
        },
        "id": "1T9loBznXdqx",
        "outputId": "50686ac1-3881-4a16-8072-d5521c6f420a"
      },
      "outputs": [
        {
          "name": "stdout",
          "output_type": "stream",
          "text": [
            "24.95\n",
            "29.95\n",
            "29.95\n",
            "34.95\n",
            "34.95\n",
            "39.95\n",
            "44.95\n",
            "44.95\n"
          ]
        }
      ],
      "source": [
        "for i in range(0,4):\n",
        "    for j in range(0,2):\n",
        "        print(ClassesAgr[i][\"Classe\"][j] + 1.65  * DdosExtras[\"DP\"])"
      ]
    },
    {
      "cell_type": "code",
      "execution_count": null,
      "metadata": {
        "colab": {
          "base_uri": "https://localhost:8080/"
        },
        "id": "G7G0ikS6c1tN",
        "outputId": "b396fe02-f90e-4f49-881d-1f023457821f"
      },
      "outputs": [
        {
          "name": "stdout",
          "output_type": "stream",
          "text": [
            "[1.2   2.025 2.85  3.675] [1.8   2.475 3.15  3.825]\n"
          ]
        }
      ],
      "source": [
        "Areiateste = np.zeros(4)\n",
        "Britateste = np.zeros(4)\n",
        "m = [3, 4.5, 6, 7.5]\n",
        "#acteste = [0.36,0.5,0.63,0.79] \n",
        "acteste = [0.41,0.54,0.68,0.83] \n",
        "for i in range (0, 4):\n",
        "    Areiateste[i] = 0.55*(1 + m[i])- 1\n",
        "    Britateste[i] = m[i] - Areiateste[i]\n",
        "print(Areiateste, Britateste)"
      ]
    },
    {
      "cell_type": "code",
      "execution_count": null,
      "metadata": {
        "colab": {
          "base_uri": "https://localhost:8080/"
        },
        "id": "3-lHj0EmwOly",
        "outputId": "8b8b7a4e-5f15-484d-f6b7-5121980cf39b"
      },
      "outputs": [
        {
          "data": {
            "text/plain": [
              "[0.36, 0.5, 0.63, 0.79]"
            ]
          },
          "execution_count": 22,
          "metadata": {},
          "output_type": "execute_result"
        }
      ],
      "source": [
        "acteste"
      ]
    },
    {
      "cell_type": "code",
      "execution_count": null,
      "metadata": {
        "id": "YYghFIUYc6to"
      },
      "outputs": [],
      "source": [
        "CC = np.zeros(4)\n",
        "for i in range(0,4):\n",
        "  CC[i] = 1000/((1/3.03)+(Areiateste[i]/2.63) + (Britateste[i]/2.95) + acteste[i])"
      ]
    },
    {
      "cell_type": "code",
      "execution_count": null,
      "metadata": {
        "colab": {
          "base_uri": "https://localhost:8080/"
        },
        "id": "7MoYrHCUi4sY",
        "outputId": "a4dc1e8a-6074-4dd2-a145-067d25f72321"
      },
      "outputs": [
        {
          "name": "stdout",
          "output_type": "stream",
          "text": [
            "R2 =  0.9352225052552321\n"
          ]
        }
      ],
      "source": [
        "SomaCC = 0\n",
        "for i in range(0,4):\n",
        "  SomaCC = SomaCC + (Dadosm[i*2+1] - (constantesC[0][0] + constantesC[0][1]*np.log(m[i])))**2\n",
        "soma1CC = 0\n",
        "Mediam = np.sum(Dadosm)/2\n",
        "for i in range(0,4):\n",
        "  soma1CC = SomaCC + (Mediam - Dadosm[i*2+1])**2\n",
        "print('R2 = ', 1-(soma1CC - SomaCC)/soma1CC)\n"
      ]
    },
    {
      "cell_type": "code",
      "execution_count": null,
      "metadata": {
        "colab": {
          "base_uri": "https://localhost:8080/"
        },
        "id": "H3bRPJJskwGC",
        "outputId": "49c23c1a-8977-46db-ad6b-194de438fec8"
      },
      "outputs": [
        {
          "name": "stdout",
          "output_type": "stream",
          "text": [
            "39.42758553062356 -5.767794467395216\n",
            "[553.56387607 403.39203791 316.30757181 259.47192023] [3, 4.5, 6, 7.5]\n"
          ]
        }
      ],
      "source": [
        "print(constantesC[0][0] , constantesC[0][1])\n",
        "print(CC,m)"
      ]
    },
    {
      "cell_type": "code",
      "execution_count": null,
      "metadata": {
        "id": "SlVGpWE-i9Ba"
      },
      "outputs": [],
      "source": [
        "DadosCCfit = np.copy(CC)\n",
        "constantesC = scipy.optimize.curve_fit(lambda t,a,b: a+b*np.log(t),  CC,m)"
      ]
    },
    {
      "cell_type": "code",
      "execution_count": null,
      "metadata": {
        "id": "ptN5vxWvXVOn"
      },
      "outputs": [],
      "source": [
        ""
      ]
    },
    {
      "cell_type": "code",
      "execution_count": null,
      "metadata": {
        "colab": {
          "base_uri": "https://localhost:8080/",
          "height": 623
        },
        "id": "AaXBlYM9luCG",
        "outputId": "63a71144-43ab-4f4e-84d0-70183bab0d6d"
      },
      "outputs": [
        {
          "data": {
            "text/plain": [
              "Text(0, 0.5, 'Consumo Cimento')"
            ]
          },
          "execution_count": 43,
          "metadata": {},
          "output_type": "execute_result"
        },
        {
          "data": {
            "image/png": "[encoded data removed]",
            "text/plain": [
              "<Figure size 720x720 with 1 Axes>"
            ]
          },
          "metadata": {},
          "output_type": "display_data"
        }
      ],
      "source": [
        "yfit = np.arange(50,4000,0.001)\n",
        "xfit = constantesC[0][0] + constantesC[0][1]*np.log(yfit)\n",
        "plt.figure(figsize=(10,10))\n",
        "plt.plot(xfit,yfit)\n",
        "plt.scatter(m,CC)\n",
        "plt.xlabel('M')\n",
        "plt.ylabel('Consumo Cimento')"
      ]
    },
    {
      "cell_type": "code",
      "execution_count": null,
      "metadata": {
        "colab": {
          "base_uri": "https://localhost:8080/",
          "height": 623
        },
        "id": "V6LYvqQtl3Xv",
        "outputId": "b133f0e5-201e-4645-b8a6-d94e877ad370"
      },
      "outputs": [
        {
          "data": {
            "text/plain": [
              "Text(0, 0.5, 'Consumo Cimento')"
            ]
          },
          "execution_count": 44,
          "metadata": {},
          "output_type": "execute_result"
        },
        {
          "data": {
            "image/png": "[encoded data removed]",
            "text/plain": [
              "<Figure size 720x720 with 1 Axes>"
            ]
          },
          "metadata": {},
          "output_type": "display_data"
        }
      ],
      "source": [
        "yzoomfit = np.arange(200,650,0.0002)\n",
        "xzoomfit = constantesC[0][0] + constantesC[0][1]*np.log(yzoomfit)\n",
        "plt.figure(figsize=(10,10))\n",
        "plt.plot(xzoomfit,yzoomfit)\n",
        "plt.scatter(m,CC)\n",
        "plt.xlabel('M')\n",
        "plt.ylabel('Consumo Cimento')"
      ]
    },
    {
      "cell_type": "code",
      "execution_count": null,
      "metadata": {
        "colab": {
          "base_uri": "https://localhost:8080/"
        },
        "id": "9TrCBfbOm-yO",
        "outputId": "63bc0d12-9a60-4c23-f4af-64d396268f49"
      },
      "outputs": [
        {
          "name": "stdout",
          "output_type": "stream",
          "text": [
            "[350.94872959]\n",
            "[385.07022887]\n",
            "[385.07022887]\n",
            "[422.50924042]\n",
            "[422.50924042]\n",
            "[463.58831417]\n",
            "[508.66136045]\n",
            "[508.66136045]\n"
          ]
        }
      ],
      "source": [
        "CCfinal = np.zeros((4,2))\n",
        "for i in range(0,8):\n",
        "  CCfinal[i//2,i%2] = e**((-constantesC[0][0]+macfinalshape[i]) / constantesC[0][1])\n",
        "  print(e**((-constantesC[0][0]+macfinalshape[i]) / constantesC[0][1]))"
      ]
    },
    {
      "cell_type": "code",
      "execution_count": null,
      "metadata": {
        "id": "BQ4L3yPVZtcx"
      },
      "outputs": [],
      "source": [
        "\n",
        "#CCfinal = np.zeros((2,4))\n",
        "#for i in range(0,8):\n",
        "  #CCfinal[i%2,i//2] = constantesC[0][0] + constantesC[0][1]*np.log(macfinalshape[i])\n",
        "  #print(constantesC[0][0] + constantesC[0][1]*np.log(macfinalshape[i]))"
      ]
    },
    {
      "cell_type": "code",
      "execution_count": null,
      "metadata": {
        "id": "jKTx6jTknhLA"
      },
      "outputs": [],
      "source": [
        "\n",
        "ClasseI = {\"a/c\":[0.65, 0.6], \"Classe\":[20,25],\"CC\":260}\n",
        "ClasseII = {\"a/c\":[0.6,0.55], \"Classe\":[25,30],\"CC\":280}\n",
        "ClasseIII = {\"a/c\":[0.55,0.50], \"Classe\":[30,35],\"CC\":320}\n",
        "ClasseIV = {\"a/c\":[0.45,0.45], \"Classe\":[40,40],\"CC\":360}"
      ]
    },
    {
      "cell_type": "code",
      "execution_count": null,
      "metadata": {
        "colab": {
          "base_uri": "https://localhost:8080/",
          "height": 269
        },
        "id": "ahbegqusp9Bk",
        "outputId": "da67edd0-fdeb-4a01-a720-f48697fd0bb8"
      },
      "outputs": [
        {
          "data": {
            "image/png": "[encoded data removed]",
            "text/plain": [
              "<Figure size 432x288 with 16 Axes>"
            ]
          },
          "metadata": {},
          "output_type": "display_data"
        }
      ],
      "source": [
        "import matplotlib.pyplot as plt\n",
        "from mpl_toolkits.axes_grid1 import ImageGrid\n",
        "fig = plt.figure()\n",
        "\n",
        "grid1 = ImageGrid(fig, 121, (2, 2), axes_pad=0.1,\n",
        "                  aspect=True, share_all=True)\n",
        "for i in [0, 1]:\n",
        "    grid1[i].set_aspect(2)\n",
        "\n",
        "grid2 = ImageGrid(fig, 122, (2, 2), axes_pad=0.1,\n",
        "                  aspect=True, share_all=True)\n",
        "for i in [1, 3]:\n",
        "    grid2[i].set_aspect(2)\n",
        "\n",
        "plt.show()"
      ]
    },
    {
      "cell_type": "code",
      "execution_count": null,
      "metadata": {
        "colab": {
          "base_uri": "https://localhost:8080/"
        },
        "id": "OceaqUMpr-s9",
        "outputId": "8bbcba5b-5c07-4dc0-ab4b-90a4cd5e52e7"
      },
      "outputs": [
        {
          "data": {
            "text/plain": [
              "array([0.41, 0.41, 0.54, 0.54, 0.68, 0.68, 0.83, 0.83])"
            ]
          },
          "execution_count": 74,
          "metadata": {},
          "output_type": "execute_result"
        }
      ],
      "source": [
        "Dadosac"
      ]
    },
    {
      "cell_type": "code",
      "execution_count": null,
      "metadata": {
        "colab": {
          "base_uri": "https://localhost:8080/"
        },
        "id": "IErYBIeka0RK",
        "outputId": "d21af278-aeff-421e-acaf-ab1be66f3248"
      },
      "outputs": [
        {
          "data": {
            "text/plain": [
              "array([60.2, 58.9, 43.2, 41.5, 29.5, 31.3, 19.3, 21.3])"
            ]
          },
          "execution_count": 75,
          "metadata": {},
          "output_type": "execute_result"
        }
      ],
      "source": [
        "DadosRes"
      ]
    },
    {
      "cell_type": "code",
      "execution_count": null,
      "metadata": {
        "id": "Fd4fVcP0a5ZK"
      },
      "outputs": [],
      "source": [
        "MediaRes = np.sum(DadosRes)"
      ]
    },
    {
      "cell_type": "code",
      "execution_count": null,
      "metadata": {
        "colab": {
          "base_uri": "https://localhost:8080/"
        },
        "id": "-RS_EKmWbGO8",
        "outputId": "cbb529c8-2c2a-49e8-97b9-5230667f84e0"
      },
      "outputs": [
        {
          "name": "stdout",
          "output_type": "stream",
          "text": [
            "10.77418856189476\n",
            "R2 =  0.9634397365831551\n"
          ]
        }
      ],
      "source": [
        "Soma = 0\n",
        "for i in range(0,8):\n",
        "  Soma = Soma + (DadosRes[i] - (constantes[0][0] + constantes[0][1]*np.log(Dadosac[i])))**2\n",
        "print(Soma)\n",
        "soma1 = 0\n",
        "for i in range(0,8):\n",
        "  soma1 = Soma + (MediaRes/8 - DadosRes[i])**2\n",
        "print('R2 = ', (soma1 - Soma)/soma1)"
      ]
    },
    {
      "cell_type": "code",
      "execution_count": null,
      "metadata": {
        "id": "p8PqoklJbNaF"
      },
      "outputs": [],
      "source": [
        "for i in range(1,100000):\n",
        "  if(56.1024/(1-np.cos(i*pi/180/100000))<408.5834/(2*np.sin(i*pi/180/100000))):\n",
        "    print(56.1024/(1-np.cos(i*pi/180/100000)),408.5834/(2*np.sin(i*pi/180/100000)), i*pi/180/100000)\n",
        "    break"
      ]
    },
    {
      "cell_type": "code",
      "execution_count": null,
      "metadata": {
        "colab": {
          "base_uri": "https://localhost:8080/"
        },
        "id": "ft2MBnpgojQA",
        "outputId": "71f35834-9a2a-41b6-b2b0-454aa45607fc"
      },
      "outputs": [
        {
          "data": {
            "text/plain": [
              "3692.830958125033"
            ]
          },
          "execution_count": 456,
          "metadata": {},
          "output_type": "execute_result"
        }
      ],
      "source": [
        ""
      ]
    },
    {
      "cell_type": "code",
      "execution_count": null,
      "metadata": {
        "colab": {
          "base_uri": "https://localhost:8080/"
        },
        "id": "zW-pjrd-pUGN",
        "outputId": "75a1b17b-0a92-4033-f81b-69ececa9cfb7"
      },
      "outputs": [
        {
          "data": {
            "text/plain": [
              "1176.4690119112342"
            ]
          },
          "execution_count": 457,
          "metadata": {},
          "output_type": "execute_result"
        }
      ],
      "source": [
        ""
      ]
    },
    {
      "cell_type": "code",
      "execution_count": null,
      "metadata": {
        "colab": {
          "base_uri": "https://localhost:8080/"
        },
        "id": "R5iUcCIjpW9c",
        "outputId": "25829455-39aa-4e1f-c7c9-90909f1c0eac"
      },
      "outputs": [
        {
          "data": {
            "text/plain": [
              "61.423835575723395"
            ]
          },
          "execution_count": 458,
          "metadata": {},
          "output_type": "execute_result"
        }
      ],
      "source": [
        ""
      ]
    },
    {
      "cell_type": "code",
      "execution_count": null,
      "metadata": {
        "colab": {
          "base_uri": "https://localhost:8080/",
          "height": 165
        },
        "id": "MAvoPfy6rIO5",
        "outputId": "f0b7d2f0-6419-4770-dc82-8cf1c3f9eab6"
      },
      "outputs": [
        {
          "ename": "NameError",
          "evalue": "ignored",
          "output_type": "error",
          "traceback": [
            "\u001b[0;31m---------------------------------------------------------------------------\u001b[0m",
            "\u001b[0;31mNameError\u001b[0m                                 Traceback (most recent call last)",
            "\u001b[0;32m<ipython-input-459-674fa020a96a>\u001b[0m in \u001b[0;36m<module>\u001b[0;34m()\u001b[0m\n\u001b[0;32m----> 1\u001b[0;31m \u001b[0;36m56.1024\u001b[0m\u001b[0;34m/\u001b[0m\u001b[0;34m(\u001b[0m\u001b[0;36m1\u001b[0m\u001b[0;34m-\u001b[0m\u001b[0mnp\u001b[0m\u001b[0;34m.\u001b[0m\u001b[0mcos\u001b[0m\u001b[0;34m(\u001b[0m\u001b[0mangulo\u001b[0m\u001b[0;34m*\u001b[0m\u001b[0mpi\u001b[0m\u001b[0;34m/\u001b[0m\u001b[0;36m360\u001b[0m\u001b[0;34m)\u001b[0m\u001b[0;34m)\u001b[0m\u001b[0;34m\u001b[0m\u001b[0;34m\u001b[0m\u001b[0m\n\u001b[0m",
            "\u001b[0;31mNameError\u001b[0m: name 'angulo' is not defined"
          ]
        }
      ],
      "source": [
        ""
      ]
    },
    {
      "cell_type": "code",
      "execution_count": null,
      "metadata": {
        "id": "Cw_GCL--raL3"
      },
      "outputs": [],
      "source": [
        ""
      ]
    },
    {
      "cell_type": "code",
      "execution_count": null,
      "metadata": {
        "id": "HcLCLJ6zretb"
      },
      "outputs": [],
      "source": [
        ""
      ]
    },
    {
      "cell_type": "code",
      "execution_count": null,
      "metadata": {
        "id": "II-ECyYsrxtl"
      },
      "outputs": [],
      "source": [
        ""
      ]
    },
    {
      "cell_type": "code",
      "execution_count": null,
      "metadata": {
        "colab": {
          "base_uri": "https://localhost:8080/"
        },
        "id": "119dyAP0r0AW",
        "outputId": "4ec552cf-27f9-414a-923e-34b358650150"
      },
      "outputs": [
        {
          "data": {
            "text/plain": [
              "array([0.41, 0.41, 0.54, 0.54, 0.68, 0.68, 0.83, 0.83])"
            ]
          },
          "execution_count": 78,
          "metadata": {},
          "output_type": "execute_result"
        }
      ],
      "source": [
        "Dadosac"
      ]
    },
    {
      "cell_type": "code",
      "execution_count": null,
      "metadata": {
        "id": "4eLuY_tGwoeV"
      },
      "outputs": [],
      "source": [
        "m_novo = 0.65/(0.65/(1+2.6435+2.98108)*0.9)-1"
      ]
    },
    {
      "cell_type": "code",
      "execution_count": null,
      "metadata": {
        "id": "Is9hVWQu7jt3"
      },
      "outputs": [],
      "source": [
        "Areia_nova = 0.55*(1+m_novo)-1"
      ]
    },
    {
      "cell_type": "code",
      "execution_count": null,
      "metadata": {
        "id": "k4fJH6pI9KBs"
      },
      "outputs": [],
      "source": [
        "Pedra_nova = m_novo - Areia_nova"
      ]
    },
    {
      "cell_type": "code",
      "execution_count": null,
      "metadata": {
        "colab": {
          "base_uri": "https://localhost:8080/"
        },
        "id": "9-h-VCr79XW_",
        "outputId": "c2a5ec14-334b-4323-c2d0-f3f0b30f7f39"
      },
      "outputs": [
        {
          "name": "stdout",
          "output_type": "stream",
          "text": [
            "3.312289999999999 3.0483544444444446\n"
          ]
        }
      ],
      "source": [
        "print(Pedra_nova,Areia_nova)"
      ]
    },
    {
      "cell_type": "code",
      "execution_count": null,
      "metadata": {
        "colab": {
          "base_uri": "https://localhost:8080/"
        },
        "id": "Szsh01Fq9atj",
        "outputId": "85b10a90-e0cb-42ca-f684-03d6f31bb38c"
      },
      "outputs": [
        {
          "data": {
            "text/plain": [
              "306.5685402636267"
            ]
          },
          "execution_count": 83,
          "metadata": {},
          "output_type": "execute_result"
        }
      ],
      "source": [
        "\n",
        "DdosExtras = { \"TeorArgS\": 0.55, \"DP\": 3, \"Consistencia\":\"Classe S100\", \"Areia\":{\"MU\":1500, \"ME\":2630, \"Custo\":70, \"Inchamento\": 0.29}, \"Brita\":{\"MU\":1450, \"ME\":2950, \"Custo\":62}}    \n",
        "1000/((1/DadosCimento[\"MassaEspecifica\"])+(Areia_nova/2.63)+(Pedra_nova/2.95)+0.65)"
      ]
    },
    {
      "cell_type": "code",
      "execution_count": null,
      "metadata": {
        "id": "iBiyYBww-QzK"
      },
      "outputs": [],
      "source": [
        "import numpy as np"
      ]
    },
    {
      "cell_type": "code",
      "execution_count": null,
      "metadata": {
        "colab": {
          "base_uri": "https://localhost:8080/"
        },
        "id": "ZLKmwwIE-zcB",
        "outputId": "58ac3a4a-19ce-4f82-a422-b2709f52d667"
      },
      "outputs": [
        {
          "data": {
            "text/plain": [
              "5.624617737003058"
            ]
          },
          "execution_count": 85,
          "metadata": {},
          "output_type": "execute_result"
        }
      ],
      "source": [
        "-1.3325688073394506 +10.70336391437309*0.65"
      ]
    },
    {
      "cell_type": "code",
      "execution_count": null,
      "metadata": {
        "colab": {
          "base_uri": "https://localhost:8080/"
        },
        "id": "66bXu3To-1ea",
        "outputId": "4c4c8f8d-1803-47e6-9d8e-5752ffc4821b"
      },
      "outputs": [
        {
          "data": {
            "text/plain": [
              "344.4541422980938"
            ]
          },
          "execution_count": 86,
          "metadata": {},
          "output_type": "execute_result"
        }
      ],
      "source": [
        "1000/((1/2.75)+(2.41/2.63)+(3.03/2.85)+0.56)"
      ]
    },
    {
      "cell_type": "code",
      "execution_count": null,
      "metadata": {
        "colab": {
          "base_uri": "https://localhost:8080/"
        },
        "id": "sFagRU2b_Mgh",
        "outputId": "ec8a30bf-8b45-4d14-926e-3d6b53d21975"
      },
      "outputs": [
        {
          "name": "stdout",
          "output_type": "stream",
          "text": [
            "[[0.65 0.6 ]\n",
            " [0.6  0.55]\n",
            " [0.55 0.5 ]\n",
            " [0.45 0.45]]\n"
          ]
        }
      ],
      "source": [
        "Finalac =Finalac/100\n",
        "print(Finalac)"
      ]
    },
    {
      "cell_type": "code",
      "execution_count": null,
      "metadata": {
        "colab": {
          "base_uri": "https://localhost:8080/"
        },
        "id": "wY0PVLrq_06L",
        "outputId": "d9645f97-1e2e-4843-b4eb-1457cae8661f"
      },
      "outputs": [
        {
          "data": {
            "text/plain": [
              "array([[0.65, 0.6 ],\n",
              "       [0.6 , 0.55],\n",
              "       [0.55, 0.5 ],\n",
              "       [0.45, 0.45]])"
            ]
          },
          "execution_count": 105,
          "metadata": {},
          "output_type": "execute_result"
        }
      ],
      "source": [
        "Finalac"
      ]
    },
    {
      "cell_type": "code",
      "execution_count": null,
      "metadata": {
        "colab": {
          "base_uri": "https://localhost:8080/"
        },
        "id": "6B0svryHtQT5",
        "outputId": "4291c82f-8858-46f8-e893-c09a1a57aaa7"
      },
      "outputs": [
        {
          "data": {
            "text/plain": [
              "array([[5.62461774, 5.08944954],\n",
              "       [5.08944954, 4.55428135],\n",
              "       [4.55428135, 4.01911315],\n",
              "       [3.48394495, 3.48394495]])"
            ]
          },
          "execution_count": 89,
          "metadata": {},
          "output_type": "execute_result"
        }
      ],
      "source": [
        "macfinal"
      ]
    },
    {
      "cell_type": "code",
      "execution_count": null,
      "metadata": {
        "id": "dseTS_-TtIRO"
      },
      "outputs": [],
      "source": [
        "Aditivo  = [0.002, 0.004, 0.006, 0.008, 0.01]\n",
        "RedAgua = [0.08, 0.09, 0.11, 0.13, 0.16] \n",
        "MEaditivo = 1.2\n",
        "Custoaditivo = 6"
      ]
    },
    {
      "cell_type": "code",
      "execution_count": null,
      "metadata": {
        "colab": {
          "base_uri": "https://localhost:8080/"
        },
        "id": "8DbP7KC5tX_N",
        "outputId": "a48fb9fa-2bcb-418c-f3ba-ab446c89ec81"
      },
      "outputs": [
        {
          "name": "stdout",
          "output_type": "stream",
          "text": [
            "[[0.09811887 0.09853107]\n",
            " [0.09853107 0.09902271]\n",
            " [0.09902271 0.09961919]\n",
            " [0.10035806 0.10035806]]\n"
          ]
        }
      ],
      "source": [
        "H_original = Finalac/(1+macfinal)\n",
        "print(H_original)"
      ]
    },
    {
      "cell_type": "code",
      "execution_count": null,
      "metadata": {
        "colab": {
          "base_uri": "https://localhost:8080/"
        },
        "id": "czQ94RYvijbw",
        "outputId": "7516596f-a335-455b-ff70-e852c892b5c5"
      },
      "outputs": [
        {
          "data": {
            "text/plain": [
              "array([[[0.00084302, 0.00084065],\n",
              "        [0.00084065, 0.00083787],\n",
              "        [0.00083787, 0.00083456],\n",
              "        [0.00083055, 0.00083055]],\n",
              "\n",
              "       [[0.00083385, 0.00083151],\n",
              "        [0.00083151, 0.00082876],\n",
              "        [0.00082876, 0.00082549],\n",
              "        [0.00082152, 0.00082152]],\n",
              "\n",
              "       [[0.00081553, 0.00081324],\n",
              "        [0.00081324, 0.00081055],\n",
              "        [0.00081055, 0.00080735],\n",
              "        [0.00080347, 0.00080347]],\n",
              "\n",
              "       [[0.0007972 , 0.00079496],\n",
              "        [0.00079496, 0.00079234],\n",
              "        [0.00079234, 0.0007892 ],\n",
              "        [0.00078541, 0.00078541]],\n",
              "\n",
              "       [[0.00076971, 0.00076755],\n",
              "        [0.00076755, 0.00076501],\n",
              "        [0.00076501, 0.00076199],\n",
              "        [0.00075833, 0.00075833]]])"
            ]
          },
          "execution_count": 505,
          "metadata": {},
          "output_type": "execute_result"
        }
      ],
      "source": [
        ""
      ]
    },
    {
      "cell_type": "code",
      "execution_count": null,
      "metadata": {
        "id": "1mpdk8BOijE2"
      },
      "outputs": [],
      "source": [
        ""
      ]
    },
    {
      "cell_type": "code",
      "execution_count": null,
      "metadata": {
        "colab": {
          "base_uri": "https://localhost:8080/"
        },
        "id": "xzQkyz9Zt7Ff",
        "outputId": "0ddebec8-ced7-4a24-cce8-aa45d575c585"
      },
      "outputs": [
        {
          "name": "stdout",
          "output_type": "stream",
          "text": [
            "[[0.09026936 0.09064859]\n",
            " [0.09064859 0.09110089]\n",
            " [0.09110089 0.09164966]\n",
            " [0.09232941 0.09232941]]\n",
            "[[0.08928817 0.08966328]\n",
            " [0.08966328 0.09011067]\n",
            " [0.09011067 0.09065347]\n",
            " [0.09132583 0.09132583]]\n",
            "[[0.08732579 0.08769266]\n",
            " [0.08769266 0.08813021]\n",
            " [0.08813021 0.08866108]\n",
            " [0.08931867 0.08931867]]\n",
            "[[0.08536342 0.08572203]\n",
            " [0.08572203 0.08614976]\n",
            " [0.08614976 0.0866687 ]\n",
            " [0.08731151 0.08731151]]\n",
            "[[0.08241985 0.0827661 ]\n",
            " [0.0827661  0.08317908]\n",
            " [0.08317908 0.08368012]\n",
            " [0.08430077 0.08430077]]\n"
          ]
        }
      ],
      "source": [
        "H_novo = np.zeros((5,4,2))\n",
        "for i in range(0,5):\n",
        "  H_novo[i] = H_original * (1-RedAgua[i])\n",
        "  print(H_novo[i])"
      ]
    },
    {
      "cell_type": "code",
      "execution_count": null,
      "metadata": {
        "colab": {
          "base_uri": "https://localhost:8080/"
        },
        "id": "OolqLBnz_iuN",
        "outputId": "f0f6a8ad-4d2d-4a04-8d13-77d92eefa4a8"
      },
      "outputs": [
        {
          "data": {
            "text/plain": [
              "array([[5.62461774, 5.08944954],\n",
              "       [5.08944954, 4.55428135],\n",
              "       [4.55428135, 4.01911315],\n",
              "       [3.48394495, 3.48394495]])"
            ]
          },
          "execution_count": 108,
          "metadata": {},
          "output_type": "execute_result"
        }
      ],
      "source": [
        "macfinal"
      ]
    },
    {
      "cell_type": "code",
      "execution_count": null,
      "metadata": {
        "colab": {
          "base_uri": "https://localhost:8080/"
        },
        "id": "6ma4jRX8t9V-",
        "outputId": "930285be-dea5-4683-c471-c3248a2833d0"
      },
      "outputs": [
        {
          "name": "stdout",
          "output_type": "stream",
          "text": [
            "[[[6.20067145 5.61896689]\n",
            "  [5.61896689 5.03726233]\n",
            "  [5.03726233 4.45555777]\n",
            "  [3.87385321 3.87385321]]\n",
            "\n",
            " [[6.27979971 5.69170279]\n",
            "  [5.69170279 5.10360587]\n",
            "  [5.10360587 4.51550896]\n",
            "  [3.92741204 3.92741204]]\n",
            "\n",
            " [[6.44339072 5.84207814]\n",
            "  [5.84207814 5.24076556]\n",
            "  [5.24076556 4.63945298]\n",
            "  [4.0381404  4.0381404 ]]\n",
            "\n",
            " [[6.61450315 5.99936729]\n",
            "  [5.99936729 5.38423143]\n",
            "  [5.38423143 4.76909557]\n",
            "  [4.15395972 4.15395972]]\n",
            "\n",
            " [[6.88644969 6.24934469]\n",
            "  [6.24934469 5.6122397 ]\n",
            "  [5.6122397  4.9751347 ]\n",
            "  [4.33802971 4.33802971]]]\n"
          ]
        }
      ],
      "source": [
        "m_novo = Finalac/H_novo - 1\n",
        "print(m_novo)"
      ]
    },
    {
      "cell_type": "code",
      "execution_count": null,
      "metadata": {
        "colab": {
          "base_uri": "https://localhost:8080/"
        },
        "id": "v7C3Uulauhw2",
        "outputId": "f0dce29f-1741-42b6-adab-b5b2f0a2011d"
      },
      "outputs": [
        {
          "name": "stdout",
          "output_type": "stream",
          "text": [
            "[[[2.9603693  2.64043179]\n",
            "  [2.64043179 2.32049428]\n",
            "  [2.32049428 2.00055677]\n",
            "  [1.68061927 1.68061927]]\n",
            "\n",
            " [[3.00388984 2.68043654]\n",
            "  [2.68043654 2.35698323]\n",
            "  [2.35698323 2.03352993]\n",
            "  [1.71007662 1.71007662]]\n",
            "\n",
            " [[3.09386489 2.76314297]\n",
            "  [2.76314297 2.43242106]\n",
            "  [2.43242106 2.10169914]\n",
            "  [1.77097722 1.77097722]]\n",
            "\n",
            " [[3.18797673 2.84965201]\n",
            "  [2.84965201 2.51132729]\n",
            "  [2.51132729 2.17300257]\n",
            "  [1.83467784 1.83467784]]\n",
            "\n",
            " [[3.33754733 2.98713958]\n",
            "  [2.98713958 2.63673183]\n",
            "  [2.63673183 2.28632409]\n",
            "  [1.93591634 1.93591634]]]\n"
          ]
        }
      ],
      "source": [
        "Areia_nova = float(DdosExtras[\"TeorArgS\"])*(1+m_novo)-1\n",
        "print(Areia_nova)"
      ]
    },
    {
      "cell_type": "code",
      "execution_count": null,
      "metadata": {
        "colab": {
          "base_uri": "https://localhost:8080/"
        },
        "id": "sAnQ4xsouUTV",
        "outputId": "af78c2a4-1ff6-40f9-c92e-7bbdff1e5916"
      },
      "outputs": [
        {
          "name": "stdout",
          "output_type": "stream",
          "text": [
            "[[[3.24030215 2.9785351 ]\n",
            "  [2.9785351  2.71676805]\n",
            "  [2.71676805 2.455001  ]\n",
            "  [2.19323394 2.19323394]]\n",
            "\n",
            " [[3.27590987 3.01126626]\n",
            "  [3.01126626 2.74662264]\n",
            "  [2.74662264 2.48197903]\n",
            "  [2.21733542 2.21733542]]\n",
            "\n",
            " [[3.34952582 3.07893516]\n",
            "  [3.07893516 2.8083445 ]\n",
            "  [2.8083445  2.53775384]\n",
            "  [2.26716318 2.26716318]]\n",
            "\n",
            " [[3.42652642 3.14971528]\n",
            "  [3.14971528 2.87290414]\n",
            "  [2.87290414 2.59609301]\n",
            "  [2.31928187 2.31928187]]\n",
            "\n",
            " [[3.54890236 3.26220511]\n",
            "  [3.26220511 2.97550786]\n",
            "  [2.97550786 2.68881062]\n",
            "  [2.40211337 2.40211337]]]\n"
          ]
        }
      ],
      "source": [
        "Brita_nova = m_novo-Areia_nova\n",
        "print(Brita_nova)"
      ]
    },
    {
      "cell_type": "code",
      "execution_count": null,
      "metadata": {
        "id": "WxK6X15Furpn"
      },
      "outputs": [],
      "source": [
        "CCAditivo = 1000/((1/DadosCimento[\"MassaEspecifica\"]) + (Areia_nova/2.63) + (Brita_nova/2.85) + Finalac)"
      ]
    },
    {
      "cell_type": "code",
      "execution_count": null,
      "metadata": {
        "colab": {
          "base_uri": "https://localhost:8080/"
        },
        "id": "PhC5BEdZwL6M",
        "outputId": "58cd021c-756c-49dd-b952-0efce1db5cac"
      },
      "outputs": [
        {
          "data": {
            "text/plain": [
              "array([[350.94872959, 385.07022887],\n",
              "       [385.07022887, 422.50924042],\n",
              "       [422.50924042, 463.58831417],\n",
              "       [508.66136045, 508.66136045]])"
            ]
          },
          "execution_count": 115,
          "metadata": {},
          "output_type": "execute_result"
        }
      ],
      "source": [
        "CCfinal"
      ]
    },
    {
      "cell_type": "code",
      "execution_count": null,
      "metadata": {
        "colab": {
          "base_uri": "https://localhost:8080/"
        },
        "id": "dfvv08j9yjy8",
        "outputId": "ba4c3803-d507-4f19-8b71-900e53358d2c"
      },
      "outputs": [
        {
          "data": {
            "text/plain": [
              "array([[[308.39479967, 335.6719036 ],\n",
              "        [335.6719036 , 368.2424516 ],\n",
              "        [368.2424516 , 407.81290625],\n",
              "        [456.91152815, 456.91152815]],\n",
              "\n",
              "       [[305.65724172, 332.69068086],\n",
              "        [332.69068086, 364.96995201],\n",
              "        [364.96995201, 404.18605254],\n",
              "        [452.84426732, 452.84426732]],\n",
              "\n",
              "       [[300.14890034, 326.69213573],\n",
              "        [326.69213573, 358.38543513],\n",
              "        [358.38543513, 396.88869515],\n",
              "        [444.66099949, 444.66099949]],\n",
              "\n",
              "       [[294.59580844, 320.64497007],\n",
              "        [320.64497007, 351.74769562],\n",
              "        [351.74769562, 389.5325517 ],\n",
              "        [436.41208505, 436.41208505]],\n",
              "\n",
              "       [[286.1810631 , 311.48175708],\n",
              "        [311.48175708, 341.6898737 ],\n",
              "        [341.6898737 , 378.38654936],\n",
              "        [423.91388755, 423.91388755]]])"
            ]
          },
          "execution_count": 114,
          "metadata": {},
          "output_type": "execute_result"
        }
      ],
      "source": [
        "CCAditivo"
      ]
    },
    {
      "cell_type": "code",
      "execution_count": null,
      "metadata": {
        "colab": {
          "base_uri": "https://localhost:8080/"
        },
        "id": "-hHeVU7RzhGB",
        "outputId": "f8d248e0-7e6d-48d8-977d-8a065df80598"
      },
      "outputs": [
        {
          "data": {
            "text/plain": [
              "array([[0.65, 0.6 ],\n",
              "       [0.6 , 0.55],\n",
              "       [0.55, 0.5 ],\n",
              "       [0.45, 0.45]])"
            ]
          },
          "execution_count": 116,
          "metadata": {},
          "output_type": "execute_result"
        }
      ],
      "source": [
        "Finalac"
      ]
    },
    {
      "cell_type": "code",
      "execution_count": null,
      "metadata": {
        "colab": {
          "base_uri": "https://localhost:8080/"
        },
        "id": "yRlgo_gvzj1u",
        "outputId": "9ad56759-6b42-40e9-fe7a-30219b34b537"
      },
      "outputs": [
        {
          "data": {
            "text/plain": [
              "3.03"
            ]
          },
          "execution_count": 117,
          "metadata": {},
          "output_type": "execute_result"
        }
      ],
      "source": [
        "DadosCimento[\"MassaEspecifica\"]"
      ]
    },
    {
      "cell_type": "code",
      "execution_count": null,
      "metadata": {
        "id": "m1x_mWxI0GNk"
      },
      "outputs": [],
      "source": [
        ""
      ]
    },
    {
      "cell_type": "code",
      "execution_count": null,
      "metadata": {
        "colab": {
          "base_uri": "https://localhost:8080/"
        },
        "id": "n1g0J05B0JGF",
        "outputId": "165bbf1e-35ef-4636-f7b6-6ea8fa5b7a65"
      },
      "outputs": [
        {
          "data": {
            "text/plain": [
              "array([[350.94872959, 385.07022887],\n",
              "       [385.07022887, 422.50924042],\n",
              "       [422.50924042, 463.58831417],\n",
              "       [508.66136045, 508.66136045]])"
            ]
          },
          "execution_count": 133,
          "metadata": {},
          "output_type": "execute_result"
        }
      ],
      "source": [
        "CCfinal"
      ]
    },
    {
      "cell_type": "code",
      "execution_count": null,
      "metadata": {
        "colab": {
          "base_uri": "https://localhost:8080/"
        },
        "id": "384gChvr5k5c",
        "outputId": "324407cf-1355-4030-8aee-77c2108a84cb"
      },
      "outputs": [
        {
          "data": {
            "text/plain": [
              "array([[0.0065, 0.006 ],\n",
              "       [0.006 , 0.0055],\n",
              "       [0.0055, 0.005 ],\n",
              "       [0.0045, 0.0045]])"
            ]
          },
          "execution_count": 486,
          "metadata": {},
          "output_type": "execute_result"
        }
      ],
      "source": [
        "Finalac"
      ]
    },
    {
      "cell_type": "code",
      "execution_count": null,
      "metadata": {
        "colab": {
          "base_uri": "https://localhost:8080/"
        },
        "id": "EfdR8H425sCE",
        "outputId": "7b2eb8ca-2f83-4033-89c0-688aae90e7ca"
      },
      "outputs": [
        {
          "data": {
            "text/plain": [
              "array([[311.1539077 , 330.61786473],\n",
              "       [330.61786473, 350.92531218],\n",
              "       [350.92531218, 372.05627674],\n",
              "       [393.97892776, 393.97892776]])"
            ]
          },
          "execution_count": 120,
          "metadata": {},
          "output_type": "execute_result"
        }
      ],
      "source": [
        "Custo_Original = CCfinal*DadosCimento['Custo']/1000 + CCfinal*Areia*DdosExtras['Areia']['Custo']*(1+DdosExtras['Areia']['Inchamento'])/DdosExtras['Areia']['MU']+CCfinal*Pedra/DdosExtras['Brita']['MU']*DdosExtras['Brita']['Custo']\n",
        "Custo_Original"
      ]
    },
    {
      "cell_type": "code",
      "execution_count": null,
      "metadata": {
        "colab": {
          "base_uri": "https://localhost:8080/"
        },
        "id": "xjYXq2Y07KK4",
        "outputId": "7c5e5c49-fcd2-4b02-c7a2-5db9a4ff47e2"
      },
      "outputs": [
        {
          "data": {
            "text/plain": [
              "array([[350.94872959, 385.07022887],\n",
              "       [385.07022887, 422.50924042],\n",
              "       [422.50924042, 463.58831417],\n",
              "       [508.66136045, 508.66136045]])"
            ]
          },
          "execution_count": 132,
          "metadata": {},
          "output_type": "execute_result"
        }
      ],
      "source": [
        "CCfinal"
      ]
    },
    {
      "cell_type": "code",
      "execution_count": null,
      "metadata": {
        "id": "zzCCp37baf6Y"
      },
      "outputs": [],
      "source": [
        "DdosExtras = { \"TeorArgS\": 0.55, \"DP\": 3, \"Consistencia\":\"Classe S100\", \"Areia\":{\"MU\":1500, \"ME\":2630, \"Custo\":70, \"Inchamento\": 0.29}, \"Brita\":{\"MU\":1450, \"ME\":2950, \"Custo\":62}}    "
      ]
    },
    {
      "cell_type": "code",
      "execution_count": null,
      "metadata": {
        "colab": {
          "base_uri": "https://localhost:8080/"
        },
        "id": "hgrQjhK_k4ru",
        "outputId": "1b90948a-0925-49b8-8912-026949824725"
      },
      "outputs": [
        {
          "data": {
            "text/plain": [
              "array([[44.73430544, 45.11845092],\n",
              "       [45.11845092, 45.15442198],\n",
              "       [45.15442198, 44.77088378],\n",
              "       [43.8859215 , 43.8859215 ]])"
            ]
          },
          "execution_count": 135,
          "metadata": {},
          "output_type": "execute_result"
        }
      ],
      "source": [
        "CCfinal*Pedra/DdosExtras['Brita']['MU']*DdosExtras['Brita']['Custo']"
      ]
    },
    {
      "cell_type": "code",
      "execution_count": null,
      "metadata": {
        "colab": {
          "base_uri": "https://localhost:8080/"
        },
        "id": "fqnbVTz5ePmj",
        "outputId": "b8ceb0a3-2dfd-442e-dbcc-e3c703f124d5"
      },
      "outputs": [
        {
          "data": {
            "text/plain": [
              "array([[55.85036451, 54.45727649],\n",
              "       [54.45727649, 52.26534595],\n",
              "       [52.26534595, 49.13240445],\n",
              "       [44.89618999, 44.89618999]])"
            ]
          },
          "execution_count": 136,
          "metadata": {},
          "output_type": "execute_result"
        }
      ],
      "source": [
        "CCfinal*Areia/DdosExtras['Areia']['MU']*DdosExtras['Areia']['Custo']*(1+DdosExtras['Areia']['Inchamento'])"
      ]
    },
    {
      "cell_type": "code",
      "execution_count": null,
      "metadata": {
        "colab": {
          "base_uri": "https://localhost:8080/"
        },
        "id": "cV8o2MdckhJp",
        "outputId": "8c596a1c-cf64-49c4-b844-4ce141b874f4"
      },
      "outputs": [
        {
          "data": {
            "text/plain": [
              "array([[2.98107798, 2.74025229],\n",
              "       [2.74025229, 2.49942661],\n",
              "       [2.49942661, 2.25860092],\n",
              "       [2.01777523, 2.01777523]])"
            ]
          },
          "execution_count": 137,
          "metadata": {},
          "output_type": "execute_result"
        }
      ],
      "source": [
        "Pedra"
      ]
    },
    {
      "cell_type": "code",
      "execution_count": null,
      "metadata": {
        "colab": {
          "base_uri": "https://localhost:8080/"
        },
        "id": "Fl5HI0_nlvhB",
        "outputId": "59209ed7-de9b-43e6-fb97-90ca7f3d37f4"
      },
      "outputs": [
        {
          "data": {
            "text/plain": [
              "array([[350.94872959, 385.07022887],\n",
              "       [385.07022887, 422.50924042],\n",
              "       [422.50924042, 463.58831417],\n",
              "       [508.66136045, 508.66136045]])"
            ]
          },
          "execution_count": 138,
          "metadata": {},
          "output_type": "execute_result"
        }
      ],
      "source": [
        "CCfinal"
      ]
    },
    {
      "cell_type": "code",
      "execution_count": null,
      "metadata": {
        "id": "xawkGpXtmlmD"
      },
      "outputs": [],
      "source": [
        "Custocomaditivo = np.zeros((5,4,2))\n",
        "for i in range(0,5):\n",
        "  Custocomaditivo[i] =CCAditivo[i]*6*Aditivo[i] + CCAditivo[i]*DadosCimento['Custo']/1000 + CCAditivo[i]*Areia_nova[i]*DdosExtras['Areia']['Custo']*(1+DdosExtras['Areia']['Inchamento'])/DdosExtras['Areia']['MU']+CCAditivo[i]*Brita_nova[i]/DdosExtras['Brita']['MU']*DdosExtras['Brita']['Custo']"
      ]
    },
    {
      "cell_type": "code",
      "execution_count": null,
      "metadata": {
        "colab": {
          "base_uri": "https://localhost:8080/"
        },
        "id": "eyCCRpkvopjp",
        "outputId": "c92c61ad-3da4-44c3-a5fb-8f62718e98cd"
      },
      "outputs": [
        {
          "data": {
            "text/plain": [
              "array([[[286.42632157, 301.53811466],\n",
              "        [301.53811466, 319.58252961],\n",
              "        [319.58252961, 341.50496407],\n",
              "        [368.70610012, 368.70610012]],\n",
              "\n",
              "       [[288.81783724, 304.11916231],\n",
              "        [304.11916231, 322.38970564],\n",
              "        [322.38970564, 344.58659665],\n",
              "        [372.12786352, 372.12786352]],\n",
              "\n",
              "       [[289.78529029, 305.12791565],\n",
              "        [305.12791565, 323.44740128],\n",
              "        [323.44740128, 345.70320713],\n",
              "        [373.31674245, 373.31674245]],\n",
              "\n",
              "       [[290.59806744, 305.96793775],\n",
              "        [305.96793775, 324.31957857],\n",
              "        [324.31957857, 346.61389828],\n",
              "        [374.27437955, 374.27437955]],\n",
              "\n",
              "       [[289.80598097, 305.03819431],\n",
              "        [305.03819431, 323.22490799],\n",
              "        [323.22490799, 345.31804081],\n",
              "        [372.72764977, 372.72764977]]])"
            ]
          },
          "execution_count": 140,
          "metadata": {},
          "output_type": "execute_result"
        }
      ],
      "source": [
        "Custocomaditivo"
      ]
    },
    {
      "cell_type": "code",
      "execution_count": null,
      "metadata": {
        "colab": {
          "base_uri": "https://localhost:8080/"
        },
        "id": "mNi7LoUgouLa",
        "outputId": "09e4b1e6-25f9-44e0-91bb-f21f2c920037"
      },
      "outputs": [
        {
          "data": {
            "text/plain": [
              "[0.002, 0.004, 0.006, 0.008, 0.01]"
            ]
          },
          "execution_count": 141,
          "metadata": {},
          "output_type": "execute_result"
        }
      ],
      "source": [
        "Aditivo"
      ]
    },
    {
      "cell_type": "code",
      "execution_count": null,
      "metadata": {
        "colab": {
          "background_save": true
        },
        "id": "YlIxUjyWo4R0",
        "outputId": "605587f9-68e7-4f95-ca90-31f125e2c1e9"
      },
      "outputs": [
        {
          "data": {
            "text/plain": [
              "array([[[2.9603693 , 2.64043179],\n",
              "        [2.64043179, 2.32049428],\n",
              "        [2.32049428, 2.00055677],\n",
              "        [1.68061927, 1.68061927]],\n",
              "\n",
              "       [[3.00388984, 2.68043654],\n",
              "        [2.68043654, 2.35698323],\n",
              "        [2.35698323, 2.03352993],\n",
              "        [1.71007662, 1.71007662]],\n",
              "\n",
              "       [[3.09386489, 2.76314297],\n",
              "        [2.76314297, 2.43242106],\n",
              "        [2.43242106, 2.10169914],\n",
              "        [1.77097722, 1.77097722]],\n",
              "\n",
              "       [[3.18797673, 2.84965201],\n",
              "        [2.84965201, 2.51132729],\n",
              "        [2.51132729, 2.17300257],\n",
              "        [1.83467784, 1.83467784]],\n",
              "\n",
              "       [[3.33754733, 2.98713958],\n",
              "        [2.98713958, 2.63673183],\n",
              "        [2.63673183, 2.28632409],\n",
              "        [1.93591634, 1.93591634]]])"
            ]
          },
          "execution_count": null,
          "metadata": {},
          "output_type": "execute_result"
        }
      ],
      "source": [
        ""
      ]
    }
  ],
  "metadata": {
    "colab": {
      "collapsed_sections": [],
      "name": "Trabalho_Edificações (5).ipynb",
      "provenance": []
    },
    "kernelspec": {
      "display_name": "Python 3",
      "name": "python3"
    },
    "language_info": {
      "name": "python"
    }
  },
  "nbformat": 4,
  "nbformat_minor": 0
}