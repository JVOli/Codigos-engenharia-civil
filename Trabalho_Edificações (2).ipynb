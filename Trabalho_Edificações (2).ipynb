{
  "nbformat": 4,
  "nbformat_minor": 0,
  "metadata": {
    "colab": {
      "name": "Trabalho_Edificações.ipynb",
      "provenance": [],
      "collapsed_sections": []
    },
    "kernelspec": {
      "name": "python3",
      "display_name": "Python 3"
    },
    "language_info": {
      "name": "python"
    }
  },
  "cells": [
    {
      "cell_type": "code",
      "execution_count": 3,
      "metadata": {
        "id": "asG6HiQ11IVt"
      },
      "outputs": [],
      "source": [
        "from math import *\n",
        "import numpy as np\n",
        "import matplotlib.pyplot as plt\n",
        "from sklearn.linear_model import LogisticRegression\n",
        "from sklearn.metrics import classification_report, confusion_matrix\n",
        "import scipy"
      ]
    },
    {
      "cell_type": "code",
      "source": [
        "0# RECEBER OS DADOS:\n",
        "print(\"Dados 1\")\n",
        "Trabalho1 = {\"m\":3.00, \"Relaçãoa/c\":input(\"Relaçãoa/c\"),\"Resistencia28C1\":input(\"Resistencia28C1\"), \"Resistencia28C2\":input(\"Resistencia28C2\")}\n",
        "print(\"Dados 2\")\n",
        "Trabalho2 = {\"m\":4.50, \"Relaçãoa/c\":input(\"Relaçãoa/c\"),\"Resistencia28C1\":input(\"Resistencia28C1\"), \"Resistencia28C2\":input(\"Resistencia28C2\")}\n",
        "print(\"Dados 3\")\n",
        "Trabalho3 = {\"m\":6.00, \"Relaçãoa/c\":input(\"Relaçãoa/c\"),\"Resistencia28C1\":input(\"Resistencia28C1\"), \"Resistencia28C2\":input(\"Resistencia28C2\")}\n",
        "print(\"Dados 4\")\n",
        "Trabalho4 = {\"m\":7.50, \"Relaçãoa/c\":input(\"Relaçãoa/c\"),\"Resistencia28C1\":input(\"Resistencia28C1\"), \"Resistencia28C2\":input(\"Resistencia28C2\")}\n",
        "print(\"Dados cimento\")\n",
        "DadosCimento = {\"MassaEspecifica\":float(input(\"Massa especifica\")), \"Custo\":float(input(\"Custo\"))}\n",
        "DdosExtras = { \"TeorArgS\": 0.55, \"DP\": 3, \"Consistencia\":\"Classe S100\", \"Areia\":{\"MU\":1500, \"ME\":2630, \"Custo\":70, \"Inchamento\": 0.29}, \"Brita\":{\"MU\":1450, \"ME\":2950, \"Custo\":62}}    "
      ],
      "metadata": {
        "colab": {
          "base_uri": "https://localhost:8080/"
        },
        "id": "ZZmIDlDV1Y5z",
        "outputId": "562c40e3-d0d9-4113-f6d8-2c0fbcc4e2ad"
      },
      "execution_count": 5,
      "outputs": [
        {
          "name": "stdout",
          "output_type": "stream",
          "text": [
            "Dados 1\n",
            "Relaçãoa/c0.36\n",
            "Resistencia28C163.5\n",
            "Resistencia28C261.6\n",
            "Dados 2\n",
            "Relaçãoa/c0.5\n",
            "Resistencia28C146.9\n",
            "Resistencia28C246.1\n",
            "Dados 3\n",
            "Relaçãoa/c0.63\n",
            "Resistencia28C132.6\n",
            "Resistencia28C233.5\n",
            "Dados 4\n",
            "Relaçãoa/c0.79\n",
            "Resistencia28C122.8\n",
            "Resistencia28C223.2\n",
            "Dados cimento\n",
            "Massa especifica3.09\n",
            "Custo700\n"
          ]
        }
      ]
    },
    {
      "cell_type": "code",
      "source": [
        "#UNIR EM UM ARRAY E PLOTAR \n",
        "Dadosac = np.array((float(Trabalho1[\"Relaçãoa/c\"]),float(Trabalho1[\"Relaçãoa/c\"]),float(Trabalho2[\"Relaçãoa/c\"]),float(Trabalho2[\"Relaçãoa/c\"]),float(Trabalho3[\"Relaçãoa/c\"]),float(Trabalho3[\"Relaçãoa/c\"]),float(Trabalho4[\"Relaçãoa/c\"]),float(Trabalho4[\"Relaçãoa/c\"])))\n",
        "DadosRes = np.array((float(Trabalho1[\"Resistencia28C1\"]),float(Trabalho1[\"Resistencia28C2\"]),float(Trabalho2[\"Resistencia28C1\"]),float(Trabalho2[\"Resistencia28C2\"]),float(Trabalho3[\"Resistencia28C1\"]),float(Trabalho3[\"Resistencia28C2\"]),float(Trabalho4[\"Resistencia28C1\"]),float(Trabalho4[\"Resistencia28C2\"])))\n",
        "Dadosm = np.array((float(Trabalho1[\"m\"]),float(Trabalho1[\"m\"]),float(Trabalho2[\"m\"]),float(Trabalho2[\"m\"]),float(Trabalho3[\"m\"]),float(Trabalho3[\"m\"]),float(Trabalho4[\"m\"]),float(Trabalho4[\"m\"])))\n",
        "plt.figure(figsize=(10,10))\n",
        "plt.scatter(Dadosac,DadosRes)"
      ],
      "metadata": {
        "colab": {
          "base_uri": "https://localhost:8080/",
          "height": 610
        },
        "id": "qIH7tPDKVhzy",
        "outputId": "faff2d24-2642-4790-aafc-85674b73a39b"
      },
      "execution_count": 6,
      "outputs": [
        {
          "output_type": "execute_result",
          "data": {
            "text/plain": [
              "<matplotlib.collections.PathCollection at 0x7fefa999a1d0>"
            ]
          },
          "metadata": {},
          "execution_count": 6
        },
        {
          "output_type": "display_data",
          "data": {
            "text/plain": [
              "<Figure size 720x720 with 1 Axes>"
            ],
            "image/png": "[encoded data removed]"
          },
          "metadata": {
            "needs_background": "light"
          }
        }
      ]
    },
    {
      "cell_type": "code",
      "source": [
        "Dadosac"
      ],
      "metadata": {
        "colab": {
          "base_uri": "https://localhost:8080/"
        },
        "id": "hK2GUeiIXwHG",
        "outputId": "9c33bcb5-e798-4dcd-f7c6-2bca6ceae085"
      },
      "execution_count": 43,
      "outputs": [
        {
          "output_type": "execute_result",
          "data": {
            "text/plain": [
              "array([0.36, 0.36, 0.5 , 0.5 , 0.63, 0.63, 0.79, 0.79])"
            ]
          },
          "metadata": {},
          "execution_count": 43
        }
      ]
    },
    {
      "cell_type": "code",
      "source": [
        "AP = ['A', 'P']\n",
        "DdosExtras = { \"TeorArgS\": 0.55, \"DP\": 3, \"Consistencia\":\"Classe S100\", \"Areia\":{\"MU\":1500, \"ME\":2630, \"Custo\":70, \"Inchamento\": 0.29}, \"Brita\":{\"MU\":1450, \"ME\":2950, \"Custo\":62}}    "
      ],
      "metadata": {
        "id": "txF2lKxNV1WE"
      },
      "execution_count": 23,
      "outputs": []
    },
    {
      "cell_type": "code",
      "source": [
        "#CLASSES DE AGRESSIVIDADE\n",
        "ClasseI = {\"a/c\":[0.65, 0.6], \"Classe\":[20,25],\"CC\":260}\n",
        "ClasseII = {\"a/c\":[0.6,0.55], \"Classe\":[25,30],\"CC\":280}\n",
        "ClasseIII = {\"a/c\":[0.55,0.50], \"Classe\":[30,35],\"CC\":320}\n",
        "ClasseIV = {\"a/c\":[0.45,0.45], \"Classe\":[40,40],\"CC\":360}\n",
        "ClassesAgr = [ClasseI,ClasseII,ClasseIII,ClasseIV]\n",
        "#ADITIVO X REDUCAO DA QUANTIDADE DE AGUA\n",
        "Aditivo  = [0.002, 0.004, 0.006, 0.008, 0.01]\n",
        "RedAgua = [0.08, 0.09, 0.11, 0.13, 0.16] \n",
        "MEaditivo = 1.2\n",
        "Custoaditivo = 6"
      ],
      "metadata": {
        "id": "rDFD0baYYeSr"
      },
      "execution_count": 8,
      "outputs": []
    },
    {
      "cell_type": "code",
      "source": [
        "#FIT DA CURVA LOGARITIMICA\n",
        "Dadosacfit = np.copy(Dadosac)\n",
        "Dadosacfit = Dadosacfit.reshape((8,1))\n",
        "constantes = scipy.optimize.curve_fit(lambda t,a,b: a+b*np.log(t),  Dadosac,  DadosRes)"
      ],
      "metadata": {
        "id": "GndXua5Shhym"
      },
      "execution_count": 9,
      "outputs": []
    },
    {
      "cell_type": "code",
      "source": [
        "Soma = 0\n",
        "for i in range(0,8):\n",
        "  Soma = Soma + (DadosRes[i] - (constantes[0][0] + constantes[0][1]*np.log(Dadosac[i])))**2\n",
        "soma1 = 0\n",
        "MediaRes = np.sum(DadosRes)\n",
        "for i in range(0,8):\n",
        "  soma1 = Soma + (MediaRes/8 - DadosRes[i])**2\n",
        "print('R2 = ', (soma1 - Soma)/soma1)\n"
      ],
      "metadata": {
        "colab": {
          "base_uri": "https://localhost:8080/"
        },
        "id": "xDpd4YDGdSJW",
        "outputId": "7dc03ea5-2a45-4c80-b44f-e9e8525e1e25"
      },
      "execution_count": 48,
      "outputs": [
        {
          "output_type": "stream",
          "name": "stdout",
          "text": [
            "R2 =  0.982052769231181\n"
          ]
        }
      ]
    },
    {
      "cell_type": "code",
      "source": [
        "print(constantes[0][0], constantes[0][1])"
      ],
      "metadata": {
        "colab": {
          "base_uri": "https://localhost:8080/"
        },
        "id": "JpId3qs6N8XO",
        "outputId": "6069ec69-6d44-452d-d494-4dea4e426478"
      },
      "execution_count": 11,
      "outputs": [
        {
          "output_type": "stream",
          "name": "stdout",
          "text": [
            "10.509310689334153 -51.00928059656361\n"
          ]
        }
      ]
    },
    {
      "cell_type": "code",
      "source": [
        "#PLOT DA CURVA\n",
        "xfit = np.arange(0,1,0.000001)\n",
        "yfit = constantes[0][0] + constantes[0][1]*np.log(xfit)\n",
        "plt.figure(figsize=(10,10))\n",
        "plt.plot(xfit,yfit)\n",
        "plt.scatter(Dadosac,DadosRes)"
      ],
      "metadata": {
        "colab": {
          "base_uri": "https://localhost:8080/",
          "height": 644
        },
        "id": "hkKJQ8OxhkbB",
        "outputId": "d272de57-cbc1-45c7-8014-4a72eb45c77f"
      },
      "execution_count": 16,
      "outputs": [
        {
          "output_type": "stream",
          "name": "stderr",
          "text": [
            "/usr/local/lib/python3.7/dist-packages/ipykernel_launcher.py:3: RuntimeWarning: divide by zero encountered in log\n",
            "  This is separate from the ipykernel package so we can avoid doing imports until\n"
          ]
        },
        {
          "output_type": "execute_result",
          "data": {
            "text/plain": [
              "<matplotlib.collections.PathCollection at 0x7fefa736b450>"
            ]
          },
          "metadata": {},
          "execution_count": 16
        },
        {
          "output_type": "display_data",
          "data": {
            "text/plain": [
              "<Figure size 720x720 with 1 Axes>"
            ],
            "image/png": "[encoded data removed]"
          },
          "metadata": {
            "needs_background": "light"
          }
        }
      ]
    },
    {
      "cell_type": "code",
      "source": [
        "#PLOT DA CURVA COM ZOOM\n",
        "xzoomfit = np.arange(0.35,0.9,0.0002)\n",
        "yzoomfit = constantes[0][0] + constantes[0][1]*np.log(xzoomfit)\n",
        "plt.figure(figsize=(10,10))\n",
        "plt.plot(xzoomfit,yzoomfit)\n",
        "plt.scatter(Dadosac,DadosRes)"
      ],
      "metadata": {
        "colab": {
          "base_uri": "https://localhost:8080/",
          "height": 610
        },
        "id": "RZ9wbf1zhmwE",
        "outputId": "17bae961-c9ce-4140-9060-020f178c5e98"
      },
      "execution_count": 17,
      "outputs": [
        {
          "output_type": "execute_result",
          "data": {
            "text/plain": [
              "<matplotlib.collections.PathCollection at 0x7fefa735a090>"
            ]
          },
          "metadata": {},
          "execution_count": 17
        },
        {
          "output_type": "display_data",
          "data": {
            "text/plain": [
              "<Figure size 720x720 with 1 Axes>"
            ],
            "image/png": "[encoded data removed]"
          },
          "metadata": {
            "needs_background": "light"
          }
        }
      ]
    },
    {
      "cell_type": "code",
      "source": [
        "#TESTE A/C FCM\n",
        "Finalac = np.zeros((4,2))\n",
        "for i in range(0,4):\n",
        "    for j in range(0,2):\n",
        "        for idealac in range(0,1000000):\n",
        "            if(yfit[idealac]>=ClassesAgr[i][\"Classe\"][j] + 1.65  * DdosExtras[\"DP\"]):\n",
        "              Finalac[i,j] = idealac/100000\n",
        "            else:\n",
        "              print('Classe',i+1,AP[j],'\\n',\"Resistencia obtida:\",yfit[idealac],'A/c ideal:', idealac/1000000,'Resistencia minima:',ClassesAgr[i][\"Classe\"][j] + 1.65  * DdosExtras[\"DP\"])\n",
        "              break"
      ],
      "metadata": {
        "colab": {
          "base_uri": "https://localhost:8080/"
        },
        "id": "hnODwarDiU1V",
        "outputId": "e2464e75-5c4e-4251-e6fc-4e6279640fe9"
      },
      "execution_count": 39,
      "outputs": [
        {
          "output_type": "stream",
          "name": "stdout",
          "text": [
            "Classe 1 A \n",
            " Resistencia obtida: 24.94993238826614 A/c ideal: 0.753446 Resistencia minima: 24.95\n",
            "Classe 1 P \n",
            " Resistencia obtida: 29.94996122801198 A/c ideal: 0.683096 Resistencia minima: 29.95\n",
            "Classe 2 A \n",
            " Resistencia obtida: 29.94996122801198 A/c ideal: 0.683096 Resistencia minima: 29.95\n",
            "Classe 2 P \n",
            " Resistencia obtida: 34.94996117825756 A/c ideal: 0.619315 Resistencia minima: 34.95\n",
            "Classe 3 A \n",
            " Resistencia obtida: 34.94996117825756 A/c ideal: 0.619315 Resistencia minima: 34.95\n",
            "Classe 3 P \n",
            " Resistencia obtida: 39.94998497147401 A/c ideal: 0.561489 Resistencia minima: 39.95\n",
            "Classe 4 A \n",
            " Resistencia obtida: 44.94993519240339 A/c ideal: 0.509063 Resistencia minima: 44.95\n",
            "Classe 4 P \n",
            " Resistencia obtida: 44.94993519240339 A/c ideal: 0.509063 Resistencia minima: 44.95\n"
          ]
        }
      ]
    },
    {
      "cell_type": "code",
      "source": [
        "print(\"Teste a/c maximo : a/c para resistencia minima\")\n",
        "for i in range(0,4):\n",
        "    for j in range(0,2):\n",
        "        if(Finalac[i,j]/10<=(ClassesAgr[i][\"a/c\"][j])):\n",
        "            print(\"Aprovado\")\n",
        "            print('Classe', i, j,'apovado', Finalac[i,j],(ClassesAgr[i][\"a/c\"][j]))\n",
        "        else:\n",
        "            print('',Finalac[i,j]/10,(ClassesAgr[i][\"a/c\"][j]), yfit[int(ClassesAgr[i][\"a/c\"][j]*1000000)])\n",
        "            Finalac[i,j] = ClassesAgr[i][\"a/c\"][j]*100"
      ],
      "metadata": {
        "id": "PMIbrwSumTR2",
        "colab": {
          "base_uri": "https://localhost:8080/"
        },
        "outputId": "8a20467f-5127-4c10-a580-2ff35ee00503"
      },
      "execution_count": 40,
      "outputs": [
        {
          "output_type": "stream",
          "name": "stdout",
          "text": [
            "Teste a/c maximo : a/c para resistencia minima\n",
            " 0.7534449999999999 0.65 32.48323733250007\n",
            " 0.683095 0.6 36.56615826792821\n",
            " 0.683095 0.6 36.56615826792821\n",
            " 0.6193139999999999 0.55 41.00454601188561\n",
            " 0.6193139999999999 0.55 41.00454601188561\n",
            " 0.561488 0.5 45.866249717233345\n",
            " 0.509062 0.45 51.24061382422205\n",
            " 0.509062 0.45 51.24061382422205\n"
          ]
        }
      ]
    },
    {
      "cell_type": "code",
      "source": [
        "print(Finalac)\n",
        "import matplotlib.pyplot as plt\n",
        "from scipy import stats\n",
        "todosm = np.arange(0,10,0.000001)\n",
        "\n",
        "plt.figure(figsize=(10,10))\n",
        "res = stats.linregress(Dadosac, Dadosm)\n",
        "x = np.arange(0,1,0.0000001)\n",
        "mac = res.intercept + res.slope*x\n",
        "macfinal = np.zeros((4,2))\n",
        "for i in range(0,4):\n",
        "    for j in range(0,2):\n",
        "        macfinal[i,j] = mac[int(100000*Finalac[i,j])]\n",
        "plt.plot(x, res.intercept + res.slope*x, 'r', label='fitted line')\n",
        "for i in range(0,4):\n",
        "    for j in range(0,2):\n",
        "        txt = \"i,j\"\n",
        "        plt.axvline(x = Finalac[i,j]/100)\n",
        "        plt.axhline(y = mac[int(Finalac[i,j]*100000)])\n",
        "plt.legend()\n",
        "plt.scatter(Dadosac,Dadosm)\n",
        "plt.show()"
      ],
      "metadata": {
        "id": "z4vQQIuWjG-Z",
        "colab": {
          "base_uri": "https://localhost:8080/",
          "height": 662
        },
        "outputId": "5834ae7e-e9ad-41aa-d3a7-155c8ab2a3bf"
      },
      "execution_count": 60,
      "outputs": [
        {
          "output_type": "stream",
          "name": "stdout",
          "text": [
            "[[65. 60.]\n",
            " [60. 55.]\n",
            " [55. 50.]\n",
            " [45. 45.]]\n"
          ]
        },
        {
          "output_type": "display_data",
          "data": {
            "text/plain": [
              "<Figure size 720x720 with 1 Axes>"
            ],
            "image/png": "[encoded data removed]"
          },
          "metadata": {
            "needs_background": "light"
          }
        }
      ]
    },
    {
      "cell_type": "code",
      "source": [
        "macfinalshape = macfinal.reshape((8,1))\n",
        "print(macfinal, res.intercept, res.slope)"
      ],
      "metadata": {
        "colab": {
          "base_uri": "https://localhost:8080/"
        },
        "id": "wDXU_rQARl54",
        "outputId": "eeac3674-01e0-41d4-eea1-e843bb0653ae"
      },
      "execution_count": 75,
      "outputs": [
        {
          "output_type": "stream",
          "name": "stdout",
          "text": [
            "[[6.09356436 5.56633663]\n",
            " [5.56633663 5.03910891]\n",
            " [5.03910891 4.51188119]\n",
            " [3.98465347 3.98465347]] -0.7603960396039593 10.544554455445544\n"
          ]
        }
      ]
    },
    {
      "cell_type": "code",
      "source": [
        "Somam = 0\n",
        "for i in range(0,8):\n",
        "  Somam = Somam + (Dadosm[i] - (res.intercept + res.slope*(macfinalshape[i])))**2\n",
        "soma1m = 0\n",
        "Mediam = np.sum(Dadosm)\n",
        "for i in range(0,8):\n",
        "  soma1m = Somam + (Mediam/8 - Dadosm[i])**2\n",
        "print('R2 = ', 1 - (soma1m - Somam)/soma1m)\n"
      ],
      "metadata": {
        "colab": {
          "base_uri": "https://localhost:8080/"
        },
        "id": "HPt6f3SQdXcc",
        "outputId": "51ea42bf-6702-4538-e2da-6bd8e6b0a96c"
      },
      "execution_count": 74,
      "outputs": [
        {
          "output_type": "stream",
          "name": "stdout",
          "text": [
            "R2 =  [0.99971757]\n"
          ]
        }
      ]
    },
    {
      "cell_type": "code",
      "source": [
        "Areia = np.zeros((4,2))\n",
        "Pedra = np.zeros((4,2))\n",
        "for i in range (0, 4):\n",
        "  for j in range(0, 2):\n",
        "    print(i,j)\n",
        "    Areia[i,j] = float(DdosExtras[\"TeorArgS\"])*(1+ macfinal[i,j])- 1\n",
        "    Pedra[i,j] = macfinal[i,j] - Areia[i,j]"
      ],
      "metadata": {
        "colab": {
          "base_uri": "https://localhost:8080/"
        },
        "id": "hm8U50XcSpT_",
        "outputId": "e6ce2ef8-1f79-41c7-b7aa-68f5d82b4f65"
      },
      "execution_count": 62,
      "outputs": [
        {
          "output_type": "stream",
          "name": "stdout",
          "text": [
            "0 0\n",
            "0 1\n",
            "1 0\n",
            "1 1\n",
            "2 0\n",
            "2 1\n",
            "3 0\n",
            "3 1\n"
          ]
        }
      ]
    },
    {
      "cell_type": "code",
      "source": [
        "print(Areia)\n",
        "print(Pedra)"
      ],
      "metadata": {
        "colab": {
          "base_uri": "https://localhost:8080/"
        },
        "id": "xjc-zaZiTA6V",
        "outputId": "84b91ad0-ae63-4d4b-8363-11de0c4b0aed"
      },
      "execution_count": 149,
      "outputs": [
        {
          "output_type": "stream",
          "name": "stdout",
          "text": [
            "[[2.9014604  2.61148515]\n",
            " [2.61148515 2.3215099 ]\n",
            " [2.3215099  2.03153465]\n",
            " [1.74155941 1.74155941]]\n",
            "[[3.19210396 2.95485149]\n",
            " [2.95485149 2.71759901]\n",
            " [2.71759901 2.48034653]\n",
            " [2.24309406 2.24309406]]\n"
          ]
        }
      ]
    },
    {
      "cell_type": "code",
      "source": [
        "print(constantes[0][0], constantes[0][1])"
      ],
      "metadata": {
        "colab": {
          "base_uri": "https://localhost:8080/"
        },
        "id": "XlSfOYSIXZkK",
        "outputId": "124cee3f-e51c-4978-de44-1cf0e26b46c1"
      },
      "execution_count": null,
      "outputs": [
        {
          "output_type": "stream",
          "name": "stdout",
          "text": [
            "10.509310689334153 -51.00928059656361\n"
          ]
        }
      ]
    },
    {
      "cell_type": "code",
      "source": [
        "for i in range(0,4):\n",
        "    for j in range(0,2):\n",
        "        print(ClassesAgr[i][\"Classe\"][j] + 1.65  * DdosExtras[\"DP\"])"
      ],
      "metadata": {
        "colab": {
          "base_uri": "https://localhost:8080/"
        },
        "id": "1T9loBznXdqx",
        "outputId": "f9fdef6b-0ff6-4fe4-f62e-b5d85ef5de81"
      },
      "execution_count": 77,
      "outputs": [
        {
          "output_type": "stream",
          "name": "stdout",
          "text": [
            "24.95\n",
            "29.95\n",
            "29.95\n",
            "34.95\n",
            "34.95\n",
            "39.95\n",
            "44.95\n",
            "44.95\n"
          ]
        }
      ]
    },
    {
      "cell_type": "code",
      "source": [
        "Areiateste = np.zeros(4)\n",
        "Britateste = np.zeros(4)\n",
        "m = [3, 4.5, 6, 7.5]\n",
        "acteste = [0.36,0.5,0.63,0.79] \n",
        "for i in range (0, 4):\n",
        "    Areiateste[i] = float(DdosExtras[\"TeorArgS\"])*(1 + m[i])- 1\n",
        "    Britateste[i] = m[i] - Areiateste[i]\n",
        "print(Areiateste, Britateste)"
      ],
      "metadata": {
        "colab": {
          "base_uri": "https://localhost:8080/"
        },
        "id": "G7G0ikS6c1tN",
        "outputId": "fc472d80-ab85-43f1-965c-f7098f015097"
      },
      "execution_count": 158,
      "outputs": [
        {
          "output_type": "stream",
          "name": "stdout",
          "text": [
            "[1.2   2.025 2.85  3.675] [1.8   2.475 3.15  3.825]\n"
          ]
        }
      ]
    },
    {
      "cell_type": "code",
      "source": [
        "CC = np.zeros(4)\n",
        "for i in range(0,4):\n",
        "  CC[i] = 1000/((1/3.09)+(Areiateste[i]/2.63) + (Britateste[i]/2.95) + acteste[i])"
      ],
      "metadata": {
        "id": "YYghFIUYc6to"
      },
      "execution_count": 159,
      "outputs": []
    },
    {
      "cell_type": "code",
      "source": [
        "SomaCC = 0\n",
        "for i in range(0,4):\n",
        "  SomaCC = SomaCC + (Dadosm[i*2+1] - (constantes[0][0] + constantes[0][1]*np.log(m[i])))**2\n",
        "soma1CC = 0\n",
        "Mediam = np.sum(Dadosm)/2\n",
        "for i in range(0,4):\n",
        "  soma1CC = SomaCC + (Mediam/4 - Dadosm[i*2+1])**2\n",
        "print('R2 = ', 1-(soma1CC - SomaCC)/soma1CC)\n"
      ],
      "metadata": {
        "colab": {
          "base_uri": "https://localhost:8080/"
        },
        "id": "7MoYrHCUi4sY",
        "outputId": "abfa6a5e-87f6-4c80-fbab-6fb6b497326d"
      },
      "execution_count": 160,
      "outputs": [
        {
          "output_type": "stream",
          "name": "stdout",
          "text": [
            "R2 =  0.9981639084296434\n"
          ]
        }
      ]
    },
    {
      "cell_type": "code",
      "source": [
        "Dadosm"
      ],
      "metadata": {
        "colab": {
          "base_uri": "https://localhost:8080/"
        },
        "id": "H3bRPJJskwGC",
        "outputId": "0ed6c646-9af7-4c1e-ceae-e209084438e1"
      },
      "execution_count": 161,
      "outputs": [
        {
          "output_type": "execute_result",
          "data": {
            "text/plain": [
              "array([3. , 3. , 4.5, 4.5, 6. , 6. , 7.5, 7.5])"
            ]
          },
          "metadata": {},
          "execution_count": 161
        }
      ]
    },
    {
      "cell_type": "code",
      "source": [
        "DadosCCfit = np.copy(CC)\n",
        "constantes = scipy.optimize.curve_fit(lambda t,a,b: a+b*np.log(t),  m,  CC)"
      ],
      "metadata": {
        "id": "SlVGpWE-i9Ba"
      },
      "execution_count": 163,
      "outputs": []
    },
    {
      "cell_type": "code",
      "source": [
        "xfit = np.arange(0,10,0.0001)\n",
        "yfit = constantes[0][0] + constantes[0][1]*np.log(xfit)\n",
        "plt.figure(figsize=(10,10))\n",
        "plt.plot(xfit,yfit)\n",
        "plt.scatter(m,CC)"
      ],
      "metadata": {
        "colab": {
          "base_uri": "https://localhost:8080/",
          "height": 644
        },
        "id": "AaXBlYM9luCG",
        "outputId": "84ab404a-001d-446c-9477-1273c14ea287"
      },
      "execution_count": 164,
      "outputs": [
        {
          "output_type": "stream",
          "name": "stderr",
          "text": [
            "/usr/local/lib/python3.7/dist-packages/ipykernel_launcher.py:2: RuntimeWarning: divide by zero encountered in log\n",
            "  \n"
          ]
        },
        {
          "output_type": "execute_result",
          "data": {
            "text/plain": [
              "<matplotlib.collections.PathCollection at 0x7fef9e212c10>"
            ]
          },
          "metadata": {},
          "execution_count": 164
        },
        {
          "output_type": "display_data",
          "data": {
            "text/plain": [
              "<Figure size 720x720 with 1 Axes>"
            ],
            "image/png": "[encoded data removed]"
          },
          "metadata": {
            "needs_background": "light"
          }
        }
      ]
    },
    {
      "cell_type": "code",
      "source": [
        "xzoomfit = np.arange(2.5,8,0.0002)\n",
        "yzoomfit = constantes[0][0] + constantes[0][1]*np.log(xzoomfit)\n",
        "plt.figure(figsize=(10,10))\n",
        "plt.plot(xzoomfit,yzoomfit)\n",
        "plt.scatter(m,CC)"
      ],
      "metadata": {
        "colab": {
          "base_uri": "https://localhost:8080/",
          "height": 610
        },
        "id": "V6LYvqQtl3Xv",
        "outputId": "7496014d-9a8b-49d2-e6ad-756002f6eb45"
      },
      "execution_count": 165,
      "outputs": [
        {
          "output_type": "execute_result",
          "data": {
            "text/plain": [
              "<matplotlib.collections.PathCollection at 0x7fef9b89e510>"
            ]
          },
          "metadata": {},
          "execution_count": 165
        },
        {
          "output_type": "display_data",
          "data": {
            "text/plain": [
              "<Figure size 720x720 with 1 Axes>"
            ],
            "image/png": "[encoded data removed]"
          },
          "metadata": {
            "needs_background": "light"
          }
        }
      ]
    },
    {
      "cell_type": "code",
      "source": [
        "for i in range(0,8):\n",
        "    print(constantes[0][0] + constantes[0][1]*np.log(macfinalshape[i]))"
      ],
      "metadata": {
        "colab": {
          "base_uri": "https://localhost:8080/"
        },
        "id": "9TrCBfbOm-yO",
        "outputId": "b38dfdc8-ae66-484c-d904-953a435914b6"
      },
      "execution_count": 166,
      "outputs": [
        {
          "output_type": "stream",
          "name": "stdout",
          "text": [
            "[322.46155578]\n",
            "[353.08434938]\n",
            "[353.08434938]\n",
            "[386.75663959]\n",
            "[386.75663959]\n",
            "[424.15363723]\n",
            "[466.20304978]\n",
            "[466.20304978]\n"
          ]
        }
      ]
    },
    {
      "cell_type": "code",
      "source": [
        "ClasseI = {\"a/c\":[0.65, 0.6], \"Classe\":[20,25],\"CC\":260}\n",
        "ClasseII = {\"a/c\":[0.6,0.55], \"Classe\":[25,30],\"CC\":280}\n",
        "ClasseIII = {\"a/c\":[0.55,0.50], \"Classe\":[30,35],\"CC\":320}\n",
        "ClasseIV = {\"a/c\":[0.45,0.45], \"Classe\":[40,40],\"CC\":360}"
      ],
      "metadata": {
        "id": "jKTx6jTknhLA"
      },
      "execution_count": 167,
      "outputs": []
    },
    {
      "cell_type": "code",
      "source": [
        "import matplotlib.pyplot as plt\n",
        "from mpl_toolkits.axes_grid1 import ImageGrid\n",
        "fig = plt.figure()\n",
        "\n",
        "grid1 = ImageGrid(fig, 121, (2, 2), axes_pad=0.1,\n",
        "                  aspect=True, share_all=True)\n",
        "for i in [0, 1]:\n",
        "    grid1[i].set_aspect(2)\n",
        "\n",
        "grid2 = ImageGrid(fig, 122, (2, 2), axes_pad=0.1,\n",
        "                  aspect=True, share_all=True)\n",
        "for i in [1, 3]:\n",
        "    grid2[i].set_aspect(2)\n",
        "\n",
        "plt.show()"
      ],
      "metadata": {
        "colab": {
          "base_uri": "https://localhost:8080/",
          "height": 269
        },
        "id": "ahbegqusp9Bk",
        "outputId": "35271353-d228-414c-9cb5-e0265f9d845f"
      },
      "execution_count": null,
      "outputs": [
        {
          "output_type": "display_data",
          "data": {
            "image/png": "[encoded data removed]",
            "text/plain": [
              "<Figure size 432x288 with 16 Axes>"
            ]
          },
          "metadata": {
            "needs_background": "light"
          }
        }
      ]
    },
    {
      "cell_type": "code",
      "source": [
        "Dadosac"
      ],
      "metadata": {
        "id": "OceaqUMpr-s9",
        "colab": {
          "base_uri": "https://localhost:8080/"
        },
        "outputId": "51b409d2-b08b-4d6e-b073-103515d94167"
      },
      "execution_count": null,
      "outputs": [
        {
          "output_type": "execute_result",
          "data": {
            "text/plain": [
              "array([0.41, 0.41, 0.54, 0.54, 0.68, 0.68, 0.83, 0.83])"
            ]
          },
          "metadata": {},
          "execution_count": 9
        }
      ]
    },
    {
      "cell_type": "code",
      "source": [
        "DadosRes"
      ],
      "metadata": {
        "colab": {
          "base_uri": "https://localhost:8080/"
        },
        "id": "IErYBIeka0RK",
        "outputId": "0a95a94c-96c6-41d5-c672-b04238a6fadd"
      },
      "execution_count": null,
      "outputs": [
        {
          "output_type": "execute_result",
          "data": {
            "text/plain": [
              "array([60.2, 58.9, 43.2, 41.5, 29.5, 31.3, 19.3, 21.3])"
            ]
          },
          "metadata": {},
          "execution_count": 10
        }
      ]
    },
    {
      "cell_type": "code",
      "source": [
        "MediaRes = np.sum(DadosRes)"
      ],
      "metadata": {
        "id": "Fd4fVcP0a5ZK"
      },
      "execution_count": null,
      "outputs": []
    },
    {
      "cell_type": "code",
      "source": [
        "Soma = 0\n",
        "for i in range(0,8):\n",
        "  Soma = Soma + (DadosRes[i] - (constantes[0][0] + constantes[0][1]*np.log(Dadosac[i])))**2\n",
        "print(Soma)\n",
        "soma1 = 0\n",
        "for i in range(0,8):\n",
        "  soma1 = Soma + (MediaRes/8 - DadosRes[i])**2\n",
        "print('R2 = ', (soma1 - Soma)/soma1)"
      ],
      "metadata": {
        "colab": {
          "base_uri": "https://localhost:8080/"
        },
        "id": "-RS_EKmWbGO8",
        "outputId": "7171f2d2-0b71-430f-b7fb-0c73531af958"
      },
      "execution_count": null,
      "outputs": [
        {
          "output_type": "stream",
          "name": "stdout",
          "text": [
            "10.77418856189476\n",
            "R2 =  0.9634397365831551\n"
          ]
        }
      ]
    },
    {
      "cell_type": "code",
      "source": [
        "for i in range(1,100000):\n",
        "  if(56.1024/(1-np.cos(i*pi/180/100000))<408.5834/(2*np.sin(i*pi/180/100000))):\n",
        "    print(56.1024/(1-np.cos(i*pi/180/100000)),408.5834/(2*np.sin(i*pi/180/100000)), i*pi/180/100000)\n",
        "    break"
      ],
      "metadata": {
        "id": "p8PqoklJbNaF"
      },
      "execution_count": 143,
      "outputs": []
    },
    {
      "cell_type": "code",
      "source": [
        "56.1024/(1-np.cos(10*pi/180))"
      ],
      "metadata": {
        "colab": {
          "base_uri": "https://localhost:8080/"
        },
        "id": "ft2MBnpgojQA",
        "outputId": "bc6feb4d-0717-42ba-e5d5-4afd711a5fa0"
      },
      "execution_count": 129,
      "outputs": [
        {
          "output_type": "execute_result",
          "data": {
            "text/plain": [
              "3692.830958125033"
            ]
          },
          "metadata": {},
          "execution_count": 129
        }
      ]
    },
    {
      "cell_type": "code",
      "source": [
        "408.5834/(2*np.sin(10*pi/180))"
      ],
      "metadata": {
        "colab": {
          "base_uri": "https://localhost:8080/"
        },
        "id": "zW-pjrd-pUGN",
        "outputId": "6c799102-9996-4fc4-8752-3654872ba7c7"
      },
      "execution_count": 130,
      "outputs": [
        {
          "output_type": "execute_result",
          "data": {
            "text/plain": [
              "1176.4690119112342"
            ]
          },
          "metadata": {},
          "execution_count": 130
        }
      ]
    },
    {
      "cell_type": "code",
      "source": [
        "1.07204817*180/pi"
      ],
      "metadata": {
        "colab": {
          "base_uri": "https://localhost:8080/"
        },
        "id": "R5iUcCIjpW9c",
        "outputId": "e4a93456-ddee-42e5-99e4-06bcdf5e547a"
      },
      "execution_count": 139,
      "outputs": [
        {
          "output_type": "execute_result",
          "data": {
            "text/plain": [
              "61.423835575723395"
            ]
          },
          "metadata": {},
          "execution_count": 139
        }
      ]
    },
    {
      "cell_type": "code",
      "source": [
        "56.1024/(1-np.cos(angulo*pi/360))"
      ],
      "metadata": {
        "colab": {
          "base_uri": "https://localhost:8080/"
        },
        "id": "MAvoPfy6rIO5",
        "outputId": "000dfe8d-bc15-4b93-c423-3956c8d14afc"
      },
      "execution_count": 145,
      "outputs": [
        {
          "output_type": "execute_result",
          "data": {
            "text/plain": [
              "400.00586850326033"
            ]
          },
          "metadata": {},
          "execution_count": 145
        }
      ]
    },
    {
      "cell_type": "code",
      "source": [
        "408.5834/(2*np.sin(angulo*pi/360))"
      ],
      "metadata": {
        "colab": {
          "base_uri": "https://localhost:8080/"
        },
        "id": "Cw_GCL--raL3",
        "outputId": "03937c15-f67c-4192-e311-40f739350140"
      },
      "execution_count": 138,
      "outputs": [
        {
          "output_type": "execute_result",
          "data": {
            "text/plain": [
              "232.6302415264429"
            ]
          },
          "metadata": {},
          "execution_count": 138
        }
      ]
    },
    {
      "cell_type": "code",
      "source": [
        "np.sin(angulo*pi/360)"
      ],
      "metadata": {
        "colab": {
          "base_uri": "https://localhost:8080/"
        },
        "id": "HcLCLJ6zretb",
        "outputId": "b2bf6764-8d42-408c-a313-88194b5e1d56"
      },
      "execution_count": 144,
      "outputs": [
        {
          "output_type": "execute_result",
          "data": {
            "text/plain": [
              "0.5107217601260233"
            ]
          },
          "metadata": {},
          "execution_count": 144
        }
      ]
    },
    {
      "cell_type": "code",
      "source": [
        "np.cos(angulo*pi/180)"
      ],
      "metadata": {
        "colab": {
          "base_uri": "https://localhost:8080/"
        },
        "id": "II-ECyYsrxtl",
        "outputId": "c4be3f96-a46c-44e4-b02f-15ca8563bb94"
      },
      "execution_count": 141,
      "outputs": [
        {
          "output_type": "execute_result",
          "data": {
            "text/plain": [
              "0.4783265674675534"
            ]
          },
          "metadata": {},
          "execution_count": 141
        }
      ]
    },
    {
      "cell_type": "code",
      "source": [
        "Dadosac"
      ],
      "metadata": {
        "colab": {
          "base_uri": "https://localhost:8080/"
        },
        "id": "119dyAP0r0AW",
        "outputId": "806446cf-2326-47d9-eaa6-3fed3a116657"
      },
      "execution_count": 147,
      "outputs": [
        {
          "output_type": "execute_result",
          "data": {
            "text/plain": [
              "array([0.36, 0.36, 0.5 , 0.5 , 0.63, 0.63, 0.79, 0.79])"
            ]
          },
          "metadata": {},
          "execution_count": 147
        }
      ]
    },
    {
      "cell_type": "code",
      "source": [
        ""
      ],
      "metadata": {
        "id": "4eLuY_tGwoeV"
      },
      "execution_count": null,
      "outputs": []
    }
  ]
}