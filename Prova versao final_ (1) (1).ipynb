{
 "cells": [
  {
   "cell_type": "code",
   "execution_count": 2,
   "id": "orange-dialogue",
   "metadata": {},
   "outputs": [
    {
     "name": "stdout",
     "output_type": "stream",
     "text": [
      "Bem vindo! Escolha uma cidade através do número:\n",
      " 1-Porto Alegre\n",
      " 2-Rio de Janeiro\n",
      " 3-Natal\n",
      " 4-Santa Maria\n",
      " 5-Campo Grande\n",
      " 6-Manaus\n",
      " 7-Pelotas\n",
      " 8-Salvador\n",
      " 9-Goiânia\n",
      " 10-Curitiba \n",
      "Qual o número da cidade?\n",
      "8\n",
      "Você selecionou: Salvador\n"
     ]
    }
   ],
   "source": [
    "#1 LOCALIZAÇÃO\n",
    "dnv = True\n",
    "while dnv==True: #testa enquanto for verdadeiro, ou seja, enquanto não tiver um valor\n",
    "    cidade = [ 'Porto Alegre', 'Rio de Janeiro', 'Natal', 'Santa Maria', 'Campo Grande', 'Manaus', 'Pelotas', 'Salvador', 'Goiânia', 'Curitiba' ] #arranjo das cidades para identificar na resposta\n",
    "    print('Bem vindo! Escolha uma cidade através do número:\\n 1-Porto Alegre\\n 2-Rio de Janeiro\\n 3-Natal\\n 4-Santa Maria\\n 5-Campo Grande\\n 6-Manaus\\n 7-Pelotas\\n 8-Salvador\\n 9-Goiânia\\n 10-Curitiba ')\n",
    "    c = int (input ('Qual o número da cidade?\\n'))\n",
    "    k = 0\n",
    "    \n",
    "    for x in range (1, 11):\n",
    "        if (x==c):\n",
    "            k = x #i adota o valor daquele x quando for igual a c, se usasse apenas x consideraria o último valor\n",
    "    \n",
    "    if (k>0 and k<11):\n",
    "        print('Você selecionou:', cidade[(k-1)]) #i-1 porque o índice do arranjo começa em 0, entao por exemplo, Natal é índice 2\n",
    "        dnv = False #aqui se torna falso porque tem uma resposta\n",
    "    else:\n",
    "        print('Cidade não existente. Digite novamente.\\n\\n') #com o anterior 'dando certo', esse nem é testado, se não tivesse virado falso, pediria para inserir o valor novamente"
   ]
  },
  {
   "cell_type": "code",
   "execution_count": 3,
   "id": "developing-repair",
   "metadata": {},
   "outputs": [
    {
     "name": "stdout",
     "output_type": "stream",
     "text": [
      "\n",
      "Escolha uma das seguintes opções de topografia:\n",
      " 1-Terreno plano ou fracamente acidentado\n",
      " 2-Talude ou morro\n",
      " 3-Vale profundo, protegido de ventos de qualquer direção \n",
      "2\n",
      "A edificação está:\n",
      " 1-Na base do talude\n",
      " 2-Acima do talude\n",
      "2\n",
      "Preciso de mais algumas informações...\n",
      "\n",
      "Altura do talude: 30\n",
      "\n",
      "Inclinação do talude: 15\n",
      "\n",
      "Distância a partir da crista do talude: 0\n"
     ]
    }
   ],
   "source": [
    "#2 TOPOGRAFIA\n",
    "dnv = True\n",
    "while dnv==True:\n",
    "    topog = [ 'Terreno plano ou fracamente acidentado', 'Talude ou morro', 'Vale profundo, protegido de ventos de qualquer direção' ] #arranjo dos tipos de topografia\n",
    "    topo = int (input ('\\nEscolha uma das seguintes opções de topografia:\\n 1-Terreno plano ou fracamente acidentado\\n 2-Talude ou morro\\n 3-Vale profundo, protegido de ventos de qualquer direção \\n'))\n",
    "    onde = 0\n",
    "    \n",
    "    if (topo==2):\n",
    "        onde = int (input ('A edificação está:\\n 1-Na base do talude\\n 2-Acima do talude\\n')) #quando é talude precisa mais coisa\n",
    "        \n",
    "        if (onde==2): #se estiver acima do talude, precisa pedir mais informações, como altura, inclinação e distância da crista\n",
    "            print('Preciso de mais algumas informações...\\n')\n",
    "            pos = True\n",
    "            while pos == True:\n",
    "                d = float (input ('Altura do talude: '))\n",
    "                incl = float (input ('\\nInclinação do talude: '))\n",
    "                incl = incl%90 #para inclinação estar entre 0 e 90\n",
    "                l = float (input ('\\nDistância a partir da crista do talude: '))\n",
    "                if (d > 0 and l >= 0):\n",
    "                    pos = False\n",
    "                else:\n",
    "                    print('Não é permitido valores negativos, insira novamente.')\n",
    "            dnv = False\n",
    "        \n",
    "        elif (onde==1): #se 1 imprime direto\n",
    "            base = 'A edificação está na base do talude'\n",
    "            print(base)\n",
    "            dnv = False\n",
    "        \n",
    "        else:\n",
    "            print('Informação inválida. Digite novamente.') #false só usa quando não quer que peça de novo, nesse caso, se chegar no else, é pq nada antes deu certo, entao precisa pedir de novo\n",
    "    \n",
    "    \n",
    "    \n",
    "    elif (topo==1 or topo==3):\n",
    "        print ('Você selecionou: ', topog[(topo-1)])\n",
    "        dnv = False\n",
    "    \n",
    "    else: #tipo de topografia inválida\n",
    "        print('Opção inválida. Digite novamente.')\n",
    "        "
   ]
  },
  {
   "cell_type": "code",
   "execution_count": 6,
   "id": "prerequisite-assault",
   "metadata": {},
   "outputs": [
    {
     "name": "stdout",
     "output_type": "stream",
     "text": [
      "Como é o terreno no entorno da edificação?\n",
      "1-Mar calmo\n",
      "2-Lagos e rios\n",
      "3-Pântanos sem vegetação\n",
      "4-Zona costeira plana\n",
      "5-Pântano com vegetação rala\n",
      "6-Campo de aviação\n",
      "7-Pradaria\n",
      "8-Fazenda sem sebes ou muros\n",
      "9-Granjas e casas de campo\n",
      "10-Fazenda com sebes ou muros\n",
      "11-Subúrbio a considerável distância do centro, com casas baixas e esparsas\n",
      "12-Zona de parques e bosques com muitas árvores\n",
      "13-Cidades pequenas e seus arredores\n",
      "14-Subúrbio densamente construído de grandes cidades\n",
      "15-Área industrial plena ou parcialmente desenvolvida\n",
      "16-Floresta com árvores altas, de copas isoladas\n",
      "17-Centros de grandes cidades\n",
      "18-Complexos industriais bem desenvolvidos\n",
      "Escolha um:\n",
      "10\n",
      "Você selecionou: Fazenda com sebes ou muros\n"
     ]
    }
   ],
   "source": [
    "#3 RUGOSIDADE DO TERRENO\n",
    "dnv = True\n",
    "while dnv==True:\n",
    "    terreno = [ 'Mar calmo', 'Lagos e rios', 'Pântanos sem vegetação', 'Zona costeira plana', 'Pântano com vegetação rala', 'Campo de aviação', 'Pradaria', 'Fazenda sem sebes ou muros', 'Granjas e casas de campo', 'Fazenda com sebes ou muros', 'Subúrbio a considerável distância do centro, com casas baixas e esparsas', 'Zona de parques e bosques com muitas árvores', 'Cidades pequenas e seus arredores', 'Subúrbio densamente construído de grandes cidades', 'Área industrial plena ou parcialmente desenvolvida', 'Floresta com árvores altas, de copas isoladas', 'Centros de grandes cidades', 'Complexos industriais bem desenvolvidos' ] #arranjo dos tipos de rugosidade\n",
    "    print('Como é o terreno no entorno da edificação?\\n1-Mar calmo\\n2-Lagos e rios\\n3-Pântanos sem vegetação\\n4-Zona costeira plana\\n5-Pântano com vegetação rala\\n6-Campo de aviação\\n7-Pradaria\\n8-Fazenda sem sebes ou muros\\n9-Granjas e casas de campo\\n10-Fazenda com sebes ou muros\\n11-Subúrbio a considerável distância do centro, com casas baixas e esparsas\\n12-Zona de parques e bosques com muitas árvores\\n13-Cidades pequenas e seus arredores\\n14-Subúrbio densamente construído de grandes cidades\\n15-Área industrial plena ou parcialmente desenvolvida\\n16-Floresta com árvores altas, de copas isoladas\\n17-Centros de grandes cidades\\n18-Complexos industriais bem desenvolvidos') #para imprimir na tela as opções\n",
    "    r = int (input ('Escolha um:\\n'))\n",
    "    f = 0\n",
    "    \n",
    "    for x in range (1, 19): #testa x de 1 a 18, que sao as opções\n",
    "        if (x==r):\n",
    "            f = x #se o x for igual ao c, que é o valor digitado, fica salvo na variável i\n",
    "    \n",
    "    if (f>0 and f<19): #como antes determinei que o i era igual a 0, ele só vai deixar de ser esse valor se o if anterior funcionar, caso não funcione, vai pedir pra digitar outro valor\n",
    "        print('Você selecionou:', terreno[(f-1)]) #f-1 porque o índice do arranjo começa em 0\n",
    "        dnv = False\n",
    "    else:\n",
    "        print('Terreno inválido. Digite novamente.\\n\\n')"
   ]
  },
  {
   "cell_type": "code",
   "execution_count": 8,
   "id": "biblical-western",
   "metadata": {},
   "outputs": [
    {
     "name": "stdout",
     "output_type": "stream",
     "text": [
      "Informe as dimensões da edificação\n",
      "Informe o valor do maior lado (a): 32\n",
      "Informe o valor do menor lado (b): 16\n",
      "Informe o valor da altura (h): 6.5\n",
      "\n",
      "Segundo a norma, só é possível valores tal que (1 <= a/b <=4) e (h/b <= 6).\n",
      "\n",
      "a/b e h/b estão dentro da norma. a/b= 2.0 m  e h/b= 0.41 m\n"
     ]
    }
   ],
   "source": [
    "#4 DIMENSÕES DA EDIFICAÇÃO\n",
    "import numpy as np\n",
    "dnv = True\n",
    "while dnv==True:\n",
    "    \n",
    "    print('Informe as dimensões da edificação')\n",
    "    a = float (input ('Informe o valor do maior lado (a): '))\n",
    "    b = float (input ('Informe o valor do menor lado (b): '))\n",
    "    h = float (input ('Informe o valor da altura (h): '))\n",
    "    print('\\nSegundo a norma, só é possível valores tal que (1 <= a/b <=4) e (h/b <= 6).\\n')\n",
    "    \n",
    "    divab = a/b\n",
    "    divhb = h/b\n",
    "    \n",
    "    if (divab >= 1 and divab <= 4 and divhb <= 6):\n",
    "        print('a/b e h/b estão dentro da norma. a/b=', np.round(divab,2) ,'m  e h/b=', np.round(divhb,2), 'm')\n",
    "        dnv = False\n",
    "    \n",
    "    else:\n",
    "        print ('Por favor, verifique seus valores e tente novamente, pois a norma não está sendo cumprida.\\n\\n')"
   ]
  },
  {
   "cell_type": "code",
   "execution_count": 9,
   "id": "analyzed-professional",
   "metadata": {},
   "outputs": [
    {
     "name": "stdout",
     "output_type": "stream",
     "text": [
      "Altura sobre a edificação\n",
      "Informe qual altura você quer que seja calculada a carga do vento sobre a edificação: 6.5\n",
      "\n",
      "A altura que você quer que seja calculada a carga do vento sobre a edificação precisa ser maior que 0 e menor que a altura (h)\n",
      "\n",
      "Altura para cálculo da carga= 6.5 m, satisfaz a relação.\n"
     ]
    }
   ],
   "source": [
    "#5 ALTURA SOBRE A EDIFICAÇÃO\n",
    "import numpy as np\n",
    "dnv = True\n",
    "while dnv==True:\n",
    "    \n",
    "    print('Altura sobre a edificação')\n",
    "    z = float (input ('Informe qual altura você quer que seja calculada a carga do vento sobre a edificação: '))\n",
    "    print('\\nA altura que você quer que seja calculada a carga do vento sobre a edificação precisa ser maior que 0 e menor que a altura (h)\\n')\n",
    "    \n",
    "    if (z > 0 and z <= h):\n",
    "        print('Altura para cálculo da carga=', np.round(z,2), 'm, satisfaz a relação.')\n",
    "        dnv = False\n",
    "    \n",
    "    else:\n",
    "        print ('Por favor, insira uma altura que satisfaça a relação (0 < z <= h).\\n\\n')"
   ]
  },
  {
   "cell_type": "code",
   "execution_count": 10,
   "id": "disturbed-parking",
   "metadata": {},
   "outputs": [
    {
     "name": "stdout",
     "output_type": "stream",
     "text": [
      "Escolha um dos níveis de segurança abaixo:\n",
      "1-Hospital, quartel de bombeiros e de forças de segurança, centrais de comunicação ou afins.\n",
      "2-Edificação residencial, hotel, comercial ou industrial com alto fator de ocupação\n",
      "3-Edificação industrial com baixo fator de ocupação (silos, depósitos, construções rurais e afins).\n",
      "4-Edificação temporária.\n",
      "\n",
      "3\n",
      "Você selecionou: Edificação industrial com baixo fator de ocupação (silos, depósitos, construções rurais e afins).\n"
     ]
    }
   ],
   "source": [
    "#6 GRAU DE SEGURANÇA\n",
    "dnv = True\n",
    "while dnv==True:\n",
    "    seg = [ 'Hospital, quartel de bombeiros e de forças de segurança, centrais de comunicação ou afins.', 'Edificação residencial, hotel, comercial ou industrial com alto fator de ocupação.', 'Edificação industrial com baixo fator de ocupação (silos, depósitos, construções rurais e afins).', 'Edificação temporária.' ]\n",
    "    gseg = int (input ('Escolha um dos níveis de segurança abaixo:\\n1-Hospital, quartel de bombeiros e de forças de segurança, centrais de comunicação ou afins.\\n2-Edificação residencial, hotel, comercial ou industrial com alto fator de ocupação\\n3-Edificação industrial com baixo fator de ocupação (silos, depósitos, construções rurais e afins).\\n4-Edificação temporária.\\n\\n'))\n",
    "    i = 0\n",
    "    \n",
    "    for x in range (1, 5): #testa x de 1 a 4, que sao as opções\n",
    "        if (x==gseg):\n",
    "            i = x #se o x for igual ao grau de segurança, que é o valor digitado, fica salvo na variável i\n",
    "    \n",
    "    if (i>0 and i<5): #como antes determinei que o i era igual a 0, ele só vai deixar de ser esse valor se o if anterior funcionar, caso não funcione, vai pedir pra digitar outro valor\n",
    "        print('Você selecionou:', seg[(i-1)]) #i-1 porque o índice do arranjo começa em 0\n",
    "        dnv = False\n",
    "        \n",
    "    else:\n",
    "        print('Opção inválida. Digite novamente.\\n\\n')"
   ]
  },
  {
   "cell_type": "code",
   "execution_count": 11,
   "id": "nutritional-essay",
   "metadata": {},
   "outputs": [
    {
     "name": "stdout",
     "output_type": "stream",
     "text": [
      "30 m/s\n"
     ]
    }
   ],
   "source": [
    "#7 CÁLCULO DE V0\n",
    "v0 = [ 45, 34, 30, 43, 43, 31, 45, 30, 33, 41 ] \n",
    "V0 = v0[c-1]\n",
    "\n",
    "print(V0, 'm/s')"
   ]
  },
  {
   "cell_type": "code",
   "execution_count": 12,
   "id": "square-million",
   "metadata": {},
   "outputs": [
    {
     "name": "stdout",
     "output_type": "stream",
     "text": [
      "S1 = 1.49\n"
     ]
    }
   ],
   "source": [
    "#8 CÁLCULO DE S1\n",
    "import numpy as np\n",
    "\n",
    "S1 = 0\n",
    "\n",
    "if (topo == 1): #se o terreno for plano ou fracamente acidentado\n",
    "    S1 = 1.0\n",
    "elif (topo == 2): #talude ou morro\n",
    "    if (onde == 1): #edificação na base do talude\n",
    "        S1 = 1.0\n",
    "    elif (onde == 2): #edificação no topo do talude\n",
    "        if (incl <= 3): #angulo menor ou igual a 3\n",
    "            S1 = 1.0\n",
    "        elif (incl>=6 and incl<=17): #angulo maior ou igual a 6 e menor ou igual a 17\n",
    "            S1 = 1.0 + (2.5 - z / d) * np.tan (incl * np.pi / 180 - 3 * np.pi / 180) #pi/180 para transformar em radianos para o cálculo\n",
    "            if (S1 < 1): #se o resultado for menor que 1, vale 1\n",
    "                S1 = 1.0  \n",
    "        elif (incl>=45): #inclinação maior ou igual a 45\n",
    "            S1 = 1.0 + (2.5 - z / d) * 0.31 \n",
    "            if (S1 < 1): #se o resultado for menor que 1, vale 1\n",
    "                S1 = 1.0 \n",
    "        elif (incl < 6 and incl > 3): #interpolação linear\n",
    "            S1 = (( 1.0 + (2.5 - z / d) * np.tan (6 * np.pi / 180 -3 * np.pi / 180) - 1 ) * (incl - 3)) / 3\n",
    "        elif (incl < 17 and incl > 45): #interpolação linear\n",
    "            S1 = (1.0 + (2.5 - z / d) * np.tan (17 * np.pi / 180 - 3 * np.pi / 180) + 1.0 + (2.5 - z / d) * 0.31) * (incl - 17) / 28\n",
    "        if (4 * d <= l):\n",
    "            S1 = 1.0\n",
    "        if(l > 0 and l < 4 *  d):\n",
    "            S1 = 1 + ((S1 - 1) * l / (d * 4))       \n",
    "else:\n",
    "    S1 = 0.9\n",
    "    \n",
    "print ('S1 =', np.round(S1,2))"
   ]
  },
  {
   "cell_type": "code",
   "execution_count": 13,
   "id": "interim-change",
   "metadata": {
    "scrolled": true
   },
   "outputs": [
    {
     "name": "stdout",
     "output_type": "stream",
     "text": [
      "S2 =  0.88 \n",
      "\t Categoria:  III \n",
      "\t Classe:  B \n",
      "\t Fr=  0.98 \n",
      "Valor de \"b\" na tabela=  0.94 \n",
      "Valor de \"p\" na tabela=  0.105\n"
     ]
    }
   ],
   "source": [
    "#9 CÁLCULO DE S2\n",
    "#definição de categoria\n",
    "if (r==1 or r==2 or r==3):\n",
    "    categ = 'I'\n",
    "\n",
    "elif (r==4 or r==5 or r==6 or r==7 or r==8):\n",
    "    categ = 'II'\n",
    "    \n",
    "elif (r==9 or r==10 or r==11):\n",
    "    categ = 'III'\n",
    "    \n",
    "elif (r==12 or r==13 or r==14 or r==15):\n",
    "    categ = 'IV'\n",
    "\n",
    "else: #pode ser usado apenas o else, porque no código 3 eu ja delimitei os valores entre 1 e 18\n",
    "    categ = 'V'\n",
    "    \n",
    "        #definição de classe\n",
    "Fr = 0.0\n",
    "S2 = 0.0\n",
    "Btab = 0.0\n",
    "p = 0.0\n",
    "\n",
    "if (a <= 20 and h <= 20):\n",
    "    Fr = 1.00\n",
    "    classe = 'A' \n",
    "    \n",
    "elif (max(a,h) > 20 or max(a,h) <= 50):\n",
    "    Fr = 0.98\n",
    "    classe = 'B'\n",
    "    \n",
    "elif (a > 50 or h > 50):\n",
    "    Fr = 0.95\n",
    "    classe = 'C'\n",
    "    \n",
    "\n",
    "if (categ == 'I'):\n",
    "    if (classe == 'A'): #não precisava ter definido a variavel classe pois o fr ja tem essa utilidade, mas quis deixar mais organizado, apesar de redundante\n",
    "        Btab = 1.10\n",
    "        p = 0.06\n",
    "    elif (classe == 'B'):\n",
    "        Btab = 1.1\n",
    "        p = 0.065\n",
    "    else: #classe C, pois só ta usando os valores q eu tinha delimitado no começo\n",
    "        Btab = 1.1\n",
    "        p = 0.065\n",
    "\n",
    "if (categ == 'II'):\n",
    "    if (classe == 'A'):\n",
    "        Btab = 1.0\n",
    "        p = 0.085\n",
    "    elif (classe == 'B'):\n",
    "        Btab = 1.0\n",
    "        p = 0.09\n",
    "    else:\n",
    "        Btab = 1.0\n",
    "        p = 0.1\n",
    "\n",
    "if (categ == 'III'):\n",
    "    if (classe == 'A'):\n",
    "        Btab = 0.94\n",
    "        p = 0.1\n",
    "    elif (classe == 'B'):\n",
    "        Btab = 0.94\n",
    "        p = 0.105\n",
    "    else:\n",
    "        Btab = 0.93\n",
    "        p = 0.115\n",
    "    \n",
    "if (categ == 'IV'):\n",
    "    if (classe == 'A'):\n",
    "        Btab = 0.86\n",
    "        p = 0.12\n",
    "    elif (classe == 'B'):\n",
    "        Btab = 0.85\n",
    "        p = 0.125\n",
    "    else:\n",
    "        Btab = 0.84\n",
    "        p = 0.135\n",
    "        \n",
    "if (categ == 'V'):\n",
    "    if (classe == 'A'):\n",
    "        Btab = 0.74\n",
    "        p = 0.15\n",
    "    elif (classe == 'B'):\n",
    "        Btab = 0.73\n",
    "        p = 0.16\n",
    "    else:\n",
    "        Btab = 0.71\n",
    "        p = 0.175\n",
    "    \n",
    "S2 = Btab * Fr*(z/10)**p\n",
    "\n",
    "print ('S2 = ', np.round(S2,2), '\\n\\t Categoria: ', categ, '\\n\\t Classe: ', classe, '\\n\\t Fr= ', Fr, '\\nValor de \"b\" na tabela= ', Btab, '\\nValor de \"p\" na tabela= ', p)"
   ]
  },
  {
   "cell_type": "code",
   "execution_count": 14,
   "id": "surface-employee",
   "metadata": {},
   "outputs": [
    {
     "name": "stdout",
     "output_type": "stream",
     "text": [
      "S3= 0.95\n"
     ]
    }
   ],
   "source": [
    "#10 CÁLCULO DE S3\n",
    "S3 = 0.0\n",
    "if (gseg==1):\n",
    "    S3 = 1.10\n",
    "elif (gseg==2):\n",
    "    S3 = 1.00\n",
    "elif (gseg==3):\n",
    "    S3 = 0.95\n",
    "else:\n",
    "    S3 = 0.83\n",
    "    \n",
    "print('S3=',S3)"
   ]
  },
  {
   "cell_type": "code",
   "execution_count": 15,
   "id": "several-chemical",
   "metadata": {},
   "outputs": [
    {
     "name": "stdout",
     "output_type": "stream",
     "text": [
      "Vk= 37.37 m/s\n"
     ]
    }
   ],
   "source": [
    "#11 CÁLCULO DE VK\n",
    "import numpy as np\n",
    "Vk = 0.0\n",
    "\n",
    "Vk = V0 * np.round(S1,2) * np.round(S2,2) * S3\n",
    "\n",
    "print('Vk=',np.round(Vk,2), 'm/s')"
   ]
  },
  {
   "cell_type": "code",
   "execution_count": 16,
   "id": "crucial-think",
   "metadata": {},
   "outputs": [
    {
     "name": "stdout",
     "output_type": "stream",
     "text": [
      "q= 856.06 N/m²\n"
     ]
    }
   ],
   "source": [
    "#12 CÁLCULO DE q\n",
    "import numpy as np\n",
    "q = 0.0\n",
    "\n",
    "q = 0.613 * np.round(Vk,2)**2\n",
    "\n",
    "print('q=', np.round(q,2),'N/m²')"
   ]
  },
  {
   "cell_type": "code",
   "execution_count": 17,
   "id": "western-lesson",
   "metadata": {},
   "outputs": [
    {
     "name": "stdout",
     "output_type": "stream",
     "text": [
      " ________________________________________________________________________________________________________________\n",
      "|                                                                                                                |\n",
      "|                                  AQUI ESTÃO TODAS INFORMAÇÕES QUE VOCÊ SELECIONOU                              |\n",
      "|________________________________________________________________________________________________________________|\n",
      "|\n",
      "|A edificação estará localizada em  Salvador\n",
      "|Tipo de topografia:  Talude ou morro\n",
      "|\tAltura do talude:  30.0 m\n",
      "|\tInclinação do talude:  15.0 \n",
      "|\tDistância a partir da crista do talude:  0.0 m\n",
      "|\n",
      "|Quanto à rugosidade:  Fazenda com sebes ou muros\n",
      "|A edificação de planta possui  32.0 m x 16.0 m, com altura  6.5 m\n",
      "|A altura sobre a edificação:  6.5 m\n",
      "|Grau de segurança:\n",
      "|\t  Edificação industrial com baixo fator de ocupação (silos, depósitos, construções rurais e afins).\n",
      "|\n",
      "|V0 =  30 m/s\n",
      "|S1 =  1.49\n",
      "|S2 =  0.88 \n",
      "|\t Categoria:  III \n",
      "|\t Classe:  B\n",
      "|S3 =  0.95\n",
      "|Vk = 37.37 m/s\n",
      "| q = 856.06 N/m²\n",
      "|________________________________________________________________________________\n"
     ]
    }
   ],
   "source": [
    "#13 RESUMO DE DADOS\n",
    "import numpy as np\n",
    "print(' ________________________________________________________________________________________________________________')\n",
    "print('|                                                                                                                |')\n",
    "print('|                                  AQUI ESTÃO TODAS INFORMAÇÕES QUE VOCÊ SELECIONOU                              |')\n",
    "print('|________________________________________________________________________________________________________________|')\n",
    "print('|\\n|A edificação estará localizada em ',cidade[(k-1)])\n",
    "print('|Tipo de topografia: ', topog[(topo-1)])\n",
    "if (topo == 2 and onde == 2):\n",
    "    print('|\\tAltura do talude: ', d ,'m\\n|\\tInclinação do talude: ', incl, '\\n|\\tDistância a partir da crista do talude: ',l ,'m' ) #colocar m\n",
    "elif (topo == 2 and onde == 1):\n",
    "    print('|\\t', base)\n",
    "print('|\\n|Quanto à rugosidade: ', terreno[(f-1)])\n",
    "print('|A edificação de planta possui ', a, 'm x', b, 'm, com altura ', h ,'m')\n",
    "print('|A altura sobre a edificação: ',z,'m')\n",
    "print('|Grau de segurança:\\n|\\t ',seg[(i-1)]) \n",
    "print('|\\n|V0 = ', V0, 'm/s')\n",
    "print ('|S1 = ', np.round(S1,2))\n",
    "print ('|S2 = ', np.round(S2,2), '\\n|\\t Categoria: ', categ, '\\n|\\t Classe: ', classe)\n",
    "print ('|S3 = ', np.round(S3,2))\n",
    "print ('|Vk =', np.round(Vk,2), 'm/s')\n",
    "print('| q =', np.round(q,2),'N/m²')\n",
    "print('|________________________________________________________________________________')"
   ]
  },
  {
   "cell_type": "code",
   "execution_count": 18,
   "id": "0f251248",
   "metadata": {},
   "outputs": [],
   "source": [
    "Vento0 = np.array([[[-0.8, -0.5, 0.7, -0.4],[-0.8, -0.4, 0.7, -0.3]],\n",
    "                   [[-0.9, -0.5, 0.7, -0.5],[-0.9, -0.4, 0.7, -0.3]],\n",
    "                   [[-1, -0.6, 0.8, -0.6], [-1, -0.5, 0.8, -0.3]]])            #Lista Vento a 0\n",
    "Vento90 = np.array([[[0.7, -0.4, -0.8, -0.4], [0.7, -0.5, -0.9, -0.5]],\n",
    "                    [[0.7, -0.5, -0.9, -0.5], [0.7, -0.6, -0.9, -0.5]],\n",
    "                    [[0.8, -0.6, -1, -0.6], [0.8, -0.6, -1, -0.6]]])           #Lista Vento a 90"
   ]
  },
  {
   "cell_type": "code",
   "execution_count": 19,
   "id": "366ae996",
   "metadata": {},
   "outputs": [],
   "source": [
    "if(h/b <= 0.5):                                                 #Descobrir o Ce\n",
    "    if (a / b <=1.5 and a / b >= 1):\n",
    "        RVento0 = Vento0[0,0,:]\n",
    "        RVento90 = Vento90[0,0,:]\n",
    "    if (a / b <=4 and a / b >= 2):\n",
    "        RVento0 = Vento0[0,1,:]\n",
    "        RVento90 = Vento90[0,1,:]\n",
    "    else:\n",
    "        RVento0 = Vento0[0,0,:] + (Vento0[0,1,:] - Vento0[0,0,:]) * (a / b - 1.5) / 0.5\n",
    "        RVento90 = Vento90[0,0,:] + (Vento90[0,1,:] - Vento90[0,0,:]) * (a / b - 1.5) / 0.5\n",
    "if(h/b >= 0.5 and h/b <= 1.5):\n",
    "    if (a / b <=1.5 and a / b >= 1):   #Descobrir o Ce\n",
    "        RVento0 = Vento0[1,0,:]\n",
    "        RVento90 = Vento90[1,0,:]\n",
    "    if (a / b <=4 and a / b >= 2):\n",
    "        RVento0 = Vento0[1,1,:]\n",
    "        RVento90 = Vento90[1,1,:]\n",
    "    else:\n",
    "        RVento0 = Vento0[1,0,:] + (Vento0[1,1,:] - Vento0[1,0,:]) * (a / b - 1.5) / 0.5\n",
    "        RVento90 = Vento90[1,0,:] + (Vento90[1,1,:] - Vento90[1,0,:]) * (a / b - 1.5) / 0.5\n",
    "if(h/b >= 1.5 and h/b <= 6):                     #Descobrir o Ce\n",
    "    if (a / b <=1.5 and a / b >= 1):\n",
    "        RVento0 = Vento0[2,0,:]\n",
    "        RVento90 = Vento90[2,0,:]\n",
    "    if (a / b <=4 and a / b >= 2):\n",
    "        RVento0 = Vento0[2,1,:]\n",
    "        RVento90 = Vento90[2,1,:]\n",
    "    else:\n",
    "        RVento0 = Vento0[2,0,:] + (Vento0[2,1,:] - Vento0[2,0,:]) * (a / b - 1.5) / 0.5\n",
    "        RVento90 = Vento90[2,0,:] + (Vento90[2,1,:] - Vento90[2,0,:]) * (a / b - 1.5) / 0.5\n",
    "\n",
    "RaVento90 = RVento90 * q                                                       #Pressao do vento 90 \n",
    "RaVento0 = RVento0 * q                                                         #Pressao do vento 0\n",
    "AB3 = a / 2                                                        #Comprimento AB3\n",
    "if(a / 4 > b / 3):                                         #Comprimento AB1\n",
    "    AB1 = a / 4\n",
    "else:\n",
    "    AB1 = b / 3\n",
    "if(AB1 >= 2*z):                                                         #Comprimento AB1\n",
    "    AB1 = 2*z\n",
    "AB2 = a * 0.5 - AB1                                                #Comprimento AB2\n",
    "CD = b                                                                 #Largura CD\n",
    "AB = a                                                             #Comprimento AB\n",
    "if(2 * z < b / 2):                                              #Largura CD1\n",
    "    CD1 = 2 * z\n",
    "else:\n",
    "    CD1 = b / 2\n",
    "CD2 = b - CD1                                                          #Largura CD2\n",
    "if(a / b == 1):                                            #Pressao CeA3\n",
    "    CeA3 = Vento0[1]\n",
    "if(a / b >= 2):\n",
    "    CeA3 = -0.2\n",
    "else:\n",
    "    CeA3 = RVento0[1] + (((-0.2) * q) - RVento0[1]) * ((a / b) - 1)\n"
   ]
  },
  {
   "cell_type": "code",
   "execution_count": 23,
   "id": "fda542e9",
   "metadata": {},
   "outputs": [
    {
     "data": {
      "image/png": "[encoded data removed]",
      "text/plain": [
       "<Figure size 576x1152 with 1 Axes>"
      ]
     },
     "metadata": {
      "needs_background": "light"
     },
     "output_type": "display_data"
    }
   ],
   "source": [
    "import matplotlib.pyplot as plt\n",
    "valor = 0                                                                                            #Tamanho ideal do fragico\n",
    "testetamanho = b\n",
    "while(testetamanho > 10):                                                                            #Testar para o tamanho ideal\n",
    "    testetamanho = testetamanho/2\n",
    "    valor = valor + 1 \n",
    "plt.subplots(figsize=(b/2**valor, a/2**valor))                                   #Criar o grafico do tamanho ideal\n",
    "finalArray = np.asarray(RVento0, dtype = np.float64, order ='C')                                     #Transformar de array para float\n",
    "#Pontos X e Y dos desenhos para os Ce\n",
    "X0A3 = [0, CeA3 * b/4, CeA3 * b/4, 0, 0]\n",
    "X0B3 = [b, b - CeA3 * b/4,\n",
    "        b - CeA3 * b/4, b, b]\n",
    "Y0B3 = [0, 0, AB3, AB3, 0]\n",
    "X0A2 = [0, 0, finalArray[1] * b/4, finalArray[1] * b/4, 0]\n",
    "X0B2 = [b, b, b - finalArray[1] * b/4,\n",
    "        b - finalArray[1] * b/4, b]\n",
    "Y0B2 = [AB3, AB3 + AB2, AB3 + AB2, AB3, AB3]\n",
    "X0A1 = [0, finalArray[0] * b/4, finalArray[0] * b/4, 0, 0]\n",
    "X0B1 = [b, b - finalArray[0] * b/4,\n",
    "        b - finalArray[0] * b/4, b, b]\n",
    "Y0B1 = [AB3 + AB2, AB3 + AB2, a, a, AB3 + AB2]\n",
    "X0C = [0, b, b, 0, 0]\n",
    "Y0C = [a, a, a + finalArray[2] * b/4,\n",
    "       a + finalArray[2] * b/4, a]\n",
    "X0D = [0, b, b, 0, 0]\n",
    "Y0D = [0, 0, finalArray[3] * b/4, finalArray[3] * b/4, 0]\n",
    "#Limites do desenho\n",
    "plt.xlim(-b/2, b*1.5)\n",
    "plt.ylim(-a/2, a * 1.5)\n",
    "#Anotacoes\n",
    "plt.annotate(text = 'Vento 0°', xy = (b/2 - b/5, a/2), fontsize = b*1.5 )\n",
    "#Desenhos\n",
    "textcea3 ='CeAB3 = '+ str(CeA3)\n",
    "textcea2 = 'CeAB2 = ' + str(finalArray[1])\n",
    "textcea1 = 'CeAB1 = ' + str(finalArray[0])\n",
    "textceC = 'CeC2 = ' + str(finalArray[2])\n",
    "textceD = 'CeD2 = ' + str(finalArray[3])\n",
    "plt.plot(X0B3, Y0B3, color = '#002900', label=textcea3)\n",
    "plt.plot(X0A3, Y0B3, color = '#002900')\n",
    "plt.plot(X0A2, Y0B2, color = '#009200', label=textcea2)\n",
    "plt.plot(X0B2, Y0B2, color = '#009200')\n",
    "plt.plot(X0A1, Y0B1, color = '#00FF00', label=textcea1)\n",
    "plt.plot(X0B1, Y0B1, color = '#00FF00')\n",
    "plt.plot(X0C, Y0C, color = '#A6FF00', label=textceC)\n",
    "plt.plot(X0D, Y0D, color = '#FFFF00', label=textceD)\n",
    "plt.legend()\n",
    "plt.show()"
   ]
  },
  {
   "cell_type": "code",
   "execution_count": null,
   "id": "17c35060",
   "metadata": {},
   "outputs": [],
   "source": []
  }
 ],
 "metadata": {
  "kernelspec": {
   "display_name": "Python 3",
   "language": "python",
   "name": "python3"
  },
  "language_info": {
   "codemirror_mode": {
    "name": "ipython",
    "version": 3
   },
   "file_extension": ".py",
   "mimetype": "text/x-python",
   "name": "python",
   "nbconvert_exporter": "python",
   "pygments_lexer": "ipython3",
   "version": "3.8.8"
  }
 },
 "nbformat": 4,
 "nbformat_minor": 5
}
